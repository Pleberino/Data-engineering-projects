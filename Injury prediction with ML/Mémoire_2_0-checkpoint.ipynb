{
 "cells": [
  {
   "cell_type": "markdown",
   "metadata": {
    "id": "R6897ypCG7iy"
   },
   "source": [
    "## Environment Setup"
   ]
  },
  {
   "cell_type": "code",
   "execution_count": 3,
   "metadata": {
    "colab": {
     "base_uri": "https://localhost:8080/"
    },
    "id": "G19EDkDMG_Bz",
    "outputId": "1da3743d-c59e-4ba6-a763-46a2eba2d55e"
   },
   "outputs": [
    {
     "name": "stdout",
     "output_type": "stream",
     "text": [
      "Python version: 3.13.2\n"
     ]
    },
    {
     "ename": "ImportError",
     "evalue": "cannot import name '_lazywhere' from 'scipy._lib._util' (c:\\Users\\kouac\\AppData\\Local\\Programs\\Python\\Python313\\Lib\\site-packages\\scipy\\_lib\\_util.py)",
     "output_type": "error",
     "traceback": [
      "\u001b[31m---------------------------------------------------------------------------\u001b[39m",
      "\u001b[31mImportError\u001b[39m                               Traceback (most recent call last)",
      "\u001b[36mCell\u001b[39m\u001b[36m \u001b[39m\u001b[32mIn[3]\u001b[39m\u001b[32m, line 10\u001b[39m\n\u001b[32m      8\u001b[39m \u001b[38;5;28;01mimport\u001b[39;00m\u001b[38;5;250m \u001b[39m\u001b[34;01mseaborn\u001b[39;00m\u001b[38;5;250m \u001b[39m\u001b[38;5;28;01mas\u001b[39;00m\u001b[38;5;250m \u001b[39m\u001b[34;01msns\u001b[39;00m\n\u001b[32m      9\u001b[39m \u001b[38;5;28;01mimport\u001b[39;00m\u001b[38;5;250m \u001b[39m\u001b[34;01mpandas\u001b[39;00m\u001b[38;5;250m \u001b[39m\u001b[38;5;28;01mas\u001b[39;00m\u001b[38;5;250m \u001b[39m\u001b[34;01mpd\u001b[39;00m\n\u001b[32m---> \u001b[39m\u001b[32m10\u001b[39m \u001b[38;5;28;01mimport\u001b[39;00m\u001b[38;5;250m \u001b[39m\u001b[34;01mstatsmodels\u001b[39;00m\u001b[34;01m.\u001b[39;00m\u001b[34;01mapi\u001b[39;00m\u001b[38;5;250m \u001b[39m\u001b[38;5;28;01mas\u001b[39;00m\u001b[38;5;250m \u001b[39m\u001b[34;01msm\u001b[39;00m\n\u001b[32m     11\u001b[39m \u001b[38;5;28;01mimport\u001b[39;00m\u001b[38;5;250m \u001b[39m\u001b[34;01mmath\u001b[39;00m\n",
      "\u001b[36mFile \u001b[39m\u001b[32mc:\\Users\\kouac\\AppData\\Local\\Programs\\Python\\Python313\\Lib\\site-packages\\statsmodels\\api.py:76\u001b[39m\n\u001b[32m      1\u001b[39m __all__ = [\n\u001b[32m      2\u001b[39m     \u001b[33m\"\u001b[39m\u001b[33mBayesGaussMI\u001b[39m\u001b[33m\"\u001b[39m,\n\u001b[32m      3\u001b[39m     \u001b[33m\"\u001b[39m\u001b[33mBinomialBayesMixedGLM\u001b[39m\u001b[33m\"\u001b[39m,\n\u001b[32m   (...)\u001b[39m\u001b[32m     72\u001b[39m     \u001b[33m\"\u001b[39m\u001b[33m__version_info__\u001b[39m\u001b[33m\"\u001b[39m\n\u001b[32m     73\u001b[39m ]\n\u001b[32m---> \u001b[39m\u001b[32m76\u001b[39m \u001b[38;5;28;01mfrom\u001b[39;00m\u001b[38;5;250m \u001b[39m\u001b[34;01m.\u001b[39;00m\u001b[38;5;250m \u001b[39m\u001b[38;5;28;01mimport\u001b[39;00m datasets, distributions, iolib, regression, robust, tools\n\u001b[32m     77\u001b[39m \u001b[38;5;28;01mfrom\u001b[39;00m\u001b[38;5;250m \u001b[39m\u001b[34;01m.\u001b[39;00m\u001b[34;01m__init__\u001b[39;00m\u001b[38;5;250m \u001b[39m\u001b[38;5;28;01mimport\u001b[39;00m test\n\u001b[32m     78\u001b[39m \u001b[38;5;28;01mfrom\u001b[39;00m\u001b[38;5;250m \u001b[39m\u001b[34;01mstatsmodels\u001b[39;00m\u001b[34;01m.\u001b[39;00m\u001b[34;01m_version\u001b[39;00m\u001b[38;5;250m \u001b[39m\u001b[38;5;28;01mimport\u001b[39;00m (\n\u001b[32m     79\u001b[39m     version \u001b[38;5;28;01mas\u001b[39;00m __version__, version_tuple \u001b[38;5;28;01mas\u001b[39;00m __version_info__\n\u001b[32m     80\u001b[39m )\n",
      "\u001b[36mFile \u001b[39m\u001b[32mc:\\Users\\kouac\\AppData\\Local\\Programs\\Python\\Python313\\Lib\\site-packages\\statsmodels\\distributions\\__init__.py:7\u001b[39m\n\u001b[32m      2\u001b[39m \u001b[38;5;28;01mfrom\u001b[39;00m\u001b[38;5;250m \u001b[39m\u001b[34;01m.\u001b[39;00m\u001b[34;01mempirical_distribution\u001b[39;00m\u001b[38;5;250m \u001b[39m\u001b[38;5;28;01mimport\u001b[39;00m (\n\u001b[32m      3\u001b[39m     ECDF, ECDFDiscrete, monotone_fn_inverter, StepFunction\n\u001b[32m      4\u001b[39m     )\n\u001b[32m      5\u001b[39m \u001b[38;5;28;01mfrom\u001b[39;00m\u001b[38;5;250m \u001b[39m\u001b[34;01m.\u001b[39;00m\u001b[34;01medgeworth\u001b[39;00m\u001b[38;5;250m \u001b[39m\u001b[38;5;28;01mimport\u001b[39;00m ExpandedNormal\n\u001b[32m----> \u001b[39m\u001b[32m7\u001b[39m \u001b[38;5;28;01mfrom\u001b[39;00m\u001b[38;5;250m \u001b[39m\u001b[34;01m.\u001b[39;00m\u001b[34;01mdiscrete\u001b[39;00m\u001b[38;5;250m \u001b[39m\u001b[38;5;28;01mimport\u001b[39;00m (\n\u001b[32m      8\u001b[39m     genpoisson_p, zipoisson, zigenpoisson, zinegbin,\n\u001b[32m      9\u001b[39m     )\n\u001b[32m     11\u001b[39m __all__ = [\n\u001b[32m     12\u001b[39m     \u001b[33m'\u001b[39m\u001b[33mECDF\u001b[39m\u001b[33m'\u001b[39m,\n\u001b[32m     13\u001b[39m     \u001b[33m'\u001b[39m\u001b[33mECDFDiscrete\u001b[39m\u001b[33m'\u001b[39m,\n\u001b[32m   (...)\u001b[39m\u001b[32m     21\u001b[39m     \u001b[33m'\u001b[39m\u001b[33mzipoisson\u001b[39m\u001b[33m'\u001b[39m\n\u001b[32m     22\u001b[39m     ]\n\u001b[32m     24\u001b[39m test = PytestTester()\n",
      "\u001b[36mFile \u001b[39m\u001b[32mc:\\Users\\kouac\\AppData\\Local\\Programs\\Python\\Python313\\Lib\\site-packages\\statsmodels\\distributions\\discrete.py:5\u001b[39m\n\u001b[32m      3\u001b[39m \u001b[38;5;28;01mfrom\u001b[39;00m\u001b[38;5;250m \u001b[39m\u001b[34;01mscipy\u001b[39;00m\u001b[34;01m.\u001b[39;00m\u001b[34;01mstats\u001b[39;00m\u001b[38;5;250m \u001b[39m\u001b[38;5;28;01mimport\u001b[39;00m rv_discrete, poisson, nbinom\n\u001b[32m      4\u001b[39m \u001b[38;5;28;01mfrom\u001b[39;00m\u001b[38;5;250m \u001b[39m\u001b[34;01mscipy\u001b[39;00m\u001b[34;01m.\u001b[39;00m\u001b[34;01mspecial\u001b[39;00m\u001b[38;5;250m \u001b[39m\u001b[38;5;28;01mimport\u001b[39;00m gammaln\n\u001b[32m----> \u001b[39m\u001b[32m5\u001b[39m \u001b[38;5;28;01mfrom\u001b[39;00m\u001b[38;5;250m \u001b[39m\u001b[34;01mscipy\u001b[39;00m\u001b[34;01m.\u001b[39;00m\u001b[34;01m_lib\u001b[39;00m\u001b[34;01m.\u001b[39;00m\u001b[34;01m_util\u001b[39;00m\u001b[38;5;250m \u001b[39m\u001b[38;5;28;01mimport\u001b[39;00m _lazywhere\n\u001b[32m      7\u001b[39m \u001b[38;5;28;01mfrom\u001b[39;00m\u001b[38;5;250m \u001b[39m\u001b[34;01mstatsmodels\u001b[39;00m\u001b[34;01m.\u001b[39;00m\u001b[34;01mbase\u001b[39;00m\u001b[34;01m.\u001b[39;00m\u001b[34;01mmodel\u001b[39;00m\u001b[38;5;250m \u001b[39m\u001b[38;5;28;01mimport\u001b[39;00m GenericLikelihoodModel\n\u001b[32m     10\u001b[39m \u001b[38;5;28;01mclass\u001b[39;00m\u001b[38;5;250m \u001b[39m\u001b[34;01mgenpoisson_p_gen\u001b[39;00m(rv_discrete):\n",
      "\u001b[31mImportError\u001b[39m: cannot import name '_lazywhere' from 'scipy._lib._util' (c:\\Users\\kouac\\AppData\\Local\\Programs\\Python\\Python313\\Lib\\site-packages\\scipy\\_lib\\_util.py)"
     ]
    }
   ],
   "source": [
    "import platform\n",
    "\n",
    "print(f\"Python version: {platform.python_version()}\")\n",
    "\n",
    "import scipy.stats as ss\n",
    "import numpy as np\n",
    "import matplotlib.pyplot as plt\n",
    "import seaborn as sns\n",
    "import pandas as pd\n",
    "import statsmodels.api as sm\n",
    "import math"
   ]
  },
  {
   "cell_type": "code",
   "execution_count": 6,
   "metadata": {
    "id": "e7bGBqwIHDR3"
   },
   "outputs": [],
   "source": [
    "# Setup plots\n",
    "%matplotlib inline\n",
    "plt.rcParams[\"figure.figsize\"] = 8, 6\n",
    "%config InlineBackend.figure_format = \"retina\"\n",
    "sns.set()"
   ]
  },
  {
   "cell_type": "code",
   "execution_count": 7,
   "metadata": {
    "colab": {
     "base_uri": "https://localhost:8080/"
    },
    "id": "56B0SuJXHEzf",
    "outputId": "5656032a-f3d8-458c-a5f1-5ac3fdf90e9b"
   },
   "outputs": [
    {
     "name": "stdout",
     "output_type": "stream",
     "text": [
      "scikit-learn version: 1.2.1\n"
     ]
    }
   ],
   "source": [
    "import sklearn\n",
    "\n",
    "print(f\"scikit-learn version: {sklearn.__version__}\")\n",
    "\n",
    "from scipy.stats import chisquare\n",
    "from scipy.stats import shapiro, levene\n",
    "\n",
    "from statsmodels.formula.api import ols\n",
    "\n",
    "from sklearn.model_selection import train_test_split\n",
    "\n",
    "from sklearn.pipeline import Pipeline\n",
    "from sklearn.impute import SimpleImputer\n",
    "from sklearn.preprocessing import StandardScaler, OneHotEncoder, LabelEncoder\n",
    "from sklearn.compose import ColumnTransformer\n",
    "\n",
    "from sklearn.metrics import (classification_report, confusion_matrix,\n",
    "                             ConfusionMatrixDisplay,\n",
    "                             precision_score, make_scorer)\n",
    "\n",
    "from sklearn.metrics import accuracy_score\n",
    "from sklearn.linear_model import LinearRegression\n",
    "from sklearn.linear_model import SGDClassifier\n",
    "from sklearn.tree import DecisionTreeRegressor\n",
    "from sklearn.ensemble import RandomForestRegressor\n",
    "from sklearn.ensemble import RandomForestClassifier\n",
    "from sklearn.datasets import make_classification\n",
    "from sklearn.neighbors import KNeighborsClassifier\n",
    "\n",
    "from sklearn.ensemble import GradientBoostingClassifier\n",
    "\n",
    "from sklearn.model_selection import cross_val_score\n",
    "from sklearn.model_selection import GridSearchCV\n",
    "\n",
    "\n",
    "import joblib  # For saving models to disk"
   ]
  },
  {
   "cell_type": "markdown",
   "metadata": {
    "id": "bIBR36_8HLig"
   },
   "source": [
    "## Chargement des données"
   ]
  },
  {
   "cell_type": "code",
   "execution_count": 8,
   "metadata": {
    "id": "4fQqHW6aHZ0a"
   },
   "outputs": [],
   "source": [
    "df = pd.read_csv(\"D:\\Data Science\\Mémoire DU BDSI\\Dataset 2.csv\")"
   ]
  },
  {
   "cell_type": "code",
   "execution_count": 9,
   "metadata": {
    "id": "676ZyCt10ct4"
   },
   "outputs": [],
   "source": [
    "# Echantillonnage\n",
    "# df = df.sample(n=80000)"
   ]
  },
  {
   "cell_type": "code",
   "execution_count": 10,
   "metadata": {
    "colab": {
     "base_uri": "https://localhost:8080/"
    },
    "id": "TmGghBODUMmY",
    "outputId": "d553a859-4156-43b5-ab7e-4aec9f7c503a"
   },
   "outputs": [
    {
     "data": {
      "text/plain": [
       "(412577, 14)"
      ]
     },
     "execution_count": 10,
     "metadata": {},
     "output_type": "execute_result"
    }
   ],
   "source": [
    "df.shape"
   ]
  },
  {
   "cell_type": "code",
   "execution_count": 11,
   "metadata": {
    "colab": {
     "base_uri": "https://localhost:8080/",
     "height": 601
    },
    "id": "6L_KCKJ3U_09",
    "outputId": "ccde009e-c61b-4406-cb4c-206ed225a844"
   },
   "outputs": [
    {
     "data": {
      "text/html": [
       "<div>\n",
       "<style scoped>\n",
       "    .dataframe tbody tr th:only-of-type {\n",
       "        vertical-align: middle;\n",
       "    }\n",
       "\n",
       "    .dataframe tbody tr th {\n",
       "        vertical-align: top;\n",
       "    }\n",
       "\n",
       "    .dataframe thead th {\n",
       "        text-align: right;\n",
       "    }\n",
       "</style>\n",
       "<table border=\"1\" class=\"dataframe\">\n",
       "  <thead>\n",
       "    <tr style=\"text-align: right;\">\n",
       "      <th></th>\n",
       "      <th>CASE_ID</th>\n",
       "      <th>PARTY_NUMBER</th>\n",
       "      <th>VICTIM_NUMBER</th>\n",
       "      <th>VICTIM_ROLE</th>\n",
       "      <th>VICTIM_SEX</th>\n",
       "      <th>VICTIM_AGE</th>\n",
       "      <th>VICTIM_DEGREE_OF_INJURY</th>\n",
       "      <th>VICTIM_SEATING_POSITION</th>\n",
       "      <th>VICTIM_SAFETY_EQUIP_1</th>\n",
       "      <th>VICTIM_SAFETY_EQUIP_2</th>\n",
       "      <th>VICTIM_EJECTED</th>\n",
       "      <th>COUNTY</th>\n",
       "      <th>CITY</th>\n",
       "      <th>ACCIDENT_YEAR</th>\n",
       "    </tr>\n",
       "  </thead>\n",
       "  <tbody>\n",
       "    <tr>\n",
       "      <th>203956</th>\n",
       "      <td>9325565</td>\n",
       "      <td>2</td>\n",
       "      <td>1</td>\n",
       "      <td>2</td>\n",
       "      <td>M</td>\n",
       "      <td>20</td>\n",
       "      <td>3</td>\n",
       "      <td>3</td>\n",
       "      <td>L</td>\n",
       "      <td>G</td>\n",
       "      <td>0</td>\n",
       "      <td>LOS ANGELES</td>\n",
       "      <td>POMONA</td>\n",
       "      <td>2021</td>\n",
       "    </tr>\n",
       "    <tr>\n",
       "      <th>197349</th>\n",
       "      <td>8934283</td>\n",
       "      <td>1</td>\n",
       "      <td>1</td>\n",
       "      <td>1</td>\n",
       "      <td>M</td>\n",
       "      <td>27</td>\n",
       "      <td>4</td>\n",
       "      <td>1</td>\n",
       "      <td>L</td>\n",
       "      <td>G</td>\n",
       "      <td>0</td>\n",
       "      <td>LOS ANGELES</td>\n",
       "      <td>LOS ANGELES</td>\n",
       "      <td>2019</td>\n",
       "    </tr>\n",
       "    <tr>\n",
       "      <th>228589</th>\n",
       "      <td>9524419</td>\n",
       "      <td>2</td>\n",
       "      <td>1</td>\n",
       "      <td>1</td>\n",
       "      <td>F</td>\n",
       "      <td>31</td>\n",
       "      <td>6</td>\n",
       "      <td>1</td>\n",
       "      <td>M</td>\n",
       "      <td>G</td>\n",
       "      <td>0</td>\n",
       "      <td>LOS ANGELES</td>\n",
       "      <td>LONG BEACH</td>\n",
       "      <td>2022</td>\n",
       "    </tr>\n",
       "    <tr>\n",
       "      <th>93067</th>\n",
       "      <td>90757515</td>\n",
       "      <td>2</td>\n",
       "      <td>1</td>\n",
       "      <td>2</td>\n",
       "      <td>-</td>\n",
       "      <td>44</td>\n",
       "      <td>7</td>\n",
       "      <td>3</td>\n",
       "      <td>M</td>\n",
       "      <td>G</td>\n",
       "      <td>0</td>\n",
       "      <td>LOS ANGELES</td>\n",
       "      <td>CULVER CITY</td>\n",
       "      <td>2018</td>\n",
       "    </tr>\n",
       "    <tr>\n",
       "      <th>391604</th>\n",
       "      <td>9472315</td>\n",
       "      <td>1</td>\n",
       "      <td>2</td>\n",
       "      <td>2</td>\n",
       "      <td>M</td>\n",
       "      <td>25</td>\n",
       "      <td>0</td>\n",
       "      <td>-</td>\n",
       "      <td>M</td>\n",
       "      <td>G</td>\n",
       "      <td>0</td>\n",
       "      <td>LOS ANGELES</td>\n",
       "      <td>LOS ANGELES</td>\n",
       "      <td>2022</td>\n",
       "    </tr>\n",
       "    <tr>\n",
       "      <th>310456</th>\n",
       "      <td>81408843</td>\n",
       "      <td>2</td>\n",
       "      <td>1</td>\n",
       "      <td>3</td>\n",
       "      <td>M</td>\n",
       "      <td>27</td>\n",
       "      <td>1</td>\n",
       "      <td>9</td>\n",
       "      <td>-</td>\n",
       "      <td>-</td>\n",
       "      <td>-</td>\n",
       "      <td>LOS ANGELES</td>\n",
       "      <td>LOS ANGELES</td>\n",
       "      <td>2021</td>\n",
       "    </tr>\n",
       "    <tr>\n",
       "      <th>117006</th>\n",
       "      <td>90850448</td>\n",
       "      <td>2</td>\n",
       "      <td>1</td>\n",
       "      <td>1</td>\n",
       "      <td>M</td>\n",
       "      <td>45</td>\n",
       "      <td>7</td>\n",
       "      <td>1</td>\n",
       "      <td>M</td>\n",
       "      <td>G</td>\n",
       "      <td>0</td>\n",
       "      <td>LOS ANGELES</td>\n",
       "      <td>LOS ANGELES</td>\n",
       "      <td>2018</td>\n",
       "    </tr>\n",
       "    <tr>\n",
       "      <th>130373</th>\n",
       "      <td>91286948</td>\n",
       "      <td>2</td>\n",
       "      <td>3</td>\n",
       "      <td>2</td>\n",
       "      <td>F</td>\n",
       "      <td>54</td>\n",
       "      <td>7</td>\n",
       "      <td>6</td>\n",
       "      <td>M</td>\n",
       "      <td>G</td>\n",
       "      <td>0</td>\n",
       "      <td>LOS ANGELES</td>\n",
       "      <td>ALHAMBRA</td>\n",
       "      <td>2020</td>\n",
       "    </tr>\n",
       "    <tr>\n",
       "      <th>247381</th>\n",
       "      <td>91260282</td>\n",
       "      <td>3</td>\n",
       "      <td>2</td>\n",
       "      <td>2</td>\n",
       "      <td>M</td>\n",
       "      <td>23</td>\n",
       "      <td>7</td>\n",
       "      <td>4</td>\n",
       "      <td>P</td>\n",
       "      <td>E</td>\n",
       "      <td>0</td>\n",
       "      <td>LOS ANGELES</td>\n",
       "      <td>LOS ANGELES</td>\n",
       "      <td>2020</td>\n",
       "    </tr>\n",
       "    <tr>\n",
       "      <th>220749</th>\n",
       "      <td>8920997</td>\n",
       "      <td>1</td>\n",
       "      <td>1</td>\n",
       "      <td>2</td>\n",
       "      <td>M</td>\n",
       "      <td>1</td>\n",
       "      <td>4</td>\n",
       "      <td>6</td>\n",
       "      <td>M</td>\n",
       "      <td>G</td>\n",
       "      <td>0</td>\n",
       "      <td>LOS ANGELES</td>\n",
       "      <td>COMMERCE</td>\n",
       "      <td>2019</td>\n",
       "    </tr>\n",
       "  </tbody>\n",
       "</table>\n",
       "</div>"
      ],
      "text/plain": [
       "         CASE_ID  PARTY_NUMBER  VICTIM_NUMBER  VICTIM_ROLE VICTIM_SEX  \\\n",
       "203956   9325565             2              1            2          M   \n",
       "197349   8934283             1              1            1          M   \n",
       "228589   9524419             2              1            1          F   \n",
       "93067   90757515             2              1            2          -   \n",
       "391604   9472315             1              2            2          M   \n",
       "310456  81408843             2              1            3          M   \n",
       "117006  90850448             2              1            1          M   \n",
       "130373  91286948             2              3            2          F   \n",
       "247381  91260282             3              2            2          M   \n",
       "220749   8920997             1              1            2          M   \n",
       "\n",
       "        VICTIM_AGE  VICTIM_DEGREE_OF_INJURY VICTIM_SEATING_POSITION  \\\n",
       "203956          20                        3                       3   \n",
       "197349          27                        4                       1   \n",
       "228589          31                        6                       1   \n",
       "93067           44                        7                       3   \n",
       "391604          25                        0                       -   \n",
       "310456          27                        1                       9   \n",
       "117006          45                        7                       1   \n",
       "130373          54                        7                       6   \n",
       "247381          23                        7                       4   \n",
       "220749           1                        4                       6   \n",
       "\n",
       "       VICTIM_SAFETY_EQUIP_1 VICTIM_SAFETY_EQUIP_2 VICTIM_EJECTED  \\\n",
       "203956                     L                     G              0   \n",
       "197349                     L                     G              0   \n",
       "228589                     M                     G              0   \n",
       "93067                      M                     G              0   \n",
       "391604                     M                     G              0   \n",
       "310456                     -                     -              -   \n",
       "117006                     M                     G              0   \n",
       "130373                     M                     G              0   \n",
       "247381                     P                     E              0   \n",
       "220749                     M                     G              0   \n",
       "\n",
       "             COUNTY         CITY  ACCIDENT_YEAR  \n",
       "203956  LOS ANGELES       POMONA           2021  \n",
       "197349  LOS ANGELES  LOS ANGELES           2019  \n",
       "228589  LOS ANGELES   LONG BEACH           2022  \n",
       "93067   LOS ANGELES  CULVER CITY           2018  \n",
       "391604  LOS ANGELES  LOS ANGELES           2022  \n",
       "310456  LOS ANGELES  LOS ANGELES           2021  \n",
       "117006  LOS ANGELES  LOS ANGELES           2018  \n",
       "130373  LOS ANGELES     ALHAMBRA           2020  \n",
       "247381  LOS ANGELES  LOS ANGELES           2020  \n",
       "220749  LOS ANGELES     COMMERCE           2019  "
      ]
     },
     "execution_count": 11,
     "metadata": {},
     "output_type": "execute_result"
    }
   ],
   "source": [
    "# Montrer 10 lignes au hasard\n",
    "df.sample(n=10)"
   ]
  },
  {
   "cell_type": "markdown",
   "metadata": {
    "id": "D8c0yA3bTtKm"
   },
   "source": [
    "## Section 1 : Exploration et visualisation"
   ]
  },
  {
   "cell_type": "markdown",
   "metadata": {
    "id": "Ycr2hRMEXBxL"
   },
   "source": [
    "### Visualisation des accidents / année"
   ]
  },
  {
   "cell_type": "code",
   "execution_count": 12,
   "metadata": {
    "colab": {
     "base_uri": "https://localhost:8080/",
     "height": 571
    },
    "id": "z2TFTAVyTsml",
    "outputId": "63e44cbf-9a69-4b4d-a102-31156c9af92b"
   },
   "outputs": [
    {
     "data": {
      "image/png": "[encoded data removed]",
      "text/plain": [
       "<Figure size 800x600 with 1 Axes>"
      ]
     },
     "metadata": {
      "image/png": {
       "height": 549,
       "width": 725
      }
     },
     "output_type": "display_data"
    }
   ],
   "source": [
    "# Créer une variable pour la colonne 'ACCIDENT_YEAR'\n",
    "accident_year = df['ACCIDENT_YEAR']\n",
    "\n",
    "# Compter le nombre d'accidents par année\n",
    "year_count = accident_year.value_counts()\n",
    "\n",
    "# Bar plot\n",
    "plt.figure(figsize=(8, 6))\n",
    "plt.bar(year_count.index, year_count.values)\n",
    "plt.xticks(year_count.index, rotation=45)\n",
    "plt.ylabel(\"Nombre d'accidents\")\n",
    "plt.title(\"Distribution des accidents par année\")\n",
    "\n",
    "plt.show()"
   ]
  },
  {
   "cell_type": "markdown",
   "metadata": {
    "id": "S3Mm21qWZ0gu"
   },
   "source": [
    "### Visualisation de la distribution des blessures"
   ]
  },
  {
   "cell_type": "code",
   "execution_count": 13,
   "metadata": {
    "colab": {
     "base_uri": "https://localhost:8080/",
     "height": 494
    },
    "id": "ojivl_mvZ4z_",
    "outputId": "d13527a9-4ee0-439a-ec9f-7da921773b06"
   },
   "outputs": [
    {
     "data": {
      "image/png": "[encoded data removed]",
      "text/plain": [
       "<Figure size 700x500 with 1 Axes>"
      ]
     },
     "metadata": {
      "image/png": {
       "height": 473,
       "width": 647
      }
     },
     "output_type": "display_data"
    }
   ],
   "source": [
    "# Créer une variable pour la colonne \"VICTIM_DEGREE_OF_INJURY\"\n",
    "degree_of_injury = df['VICTIM_DEGREE_OF_INJURY']\n",
    "\n",
    "# Nombre de cas pour chaque degré de blessure\n",
    "injury_count = degree_of_injury.value_counts()\n",
    "\n",
    "# Barplot\n",
    "plt.figure(figsize=(7,5))\n",
    "plt.bar(injury_count.index, injury_count.values)\n",
    "plt.xticks(injury_count.index)\n",
    "plt.xlabel(\"Degrés de gravité\")\n",
    "plt.ylabel(\"Nombre d'accidents\")\n",
    "plt.title(\"Distribution de la gravité des blessures\")\n",
    "\n",
    "plt.show()"
   ]
  },
  {
   "cell_type": "markdown",
   "metadata": {
    "id": "WX__f2j9jL8J"
   },
   "source": [
    "## Section 2: Nettoyage des données"
   ]
  },
  {
   "cell_type": "markdown",
   "metadata": {
    "id": "e-PbZ0ghrfJ_"
   },
   "source": [
    "#### 1ere exploration"
   ]
  },
  {
   "cell_type": "code",
   "execution_count": 14,
   "metadata": {
    "colab": {
     "base_uri": "https://localhost:8080/"
    },
    "id": "PSPAfuQojQhW",
    "outputId": "b8b3bb2c-5d18-4b80-83f0-0fcbef8477c3"
   },
   "outputs": [
    {
     "name": "stdout",
     "output_type": "stream",
     "text": [
      "Index(['CASE_ID', 'PARTY_NUMBER', 'VICTIM_NUMBER', 'VICTIM_ROLE', 'VICTIM_SEX',\n",
      "       'VICTIM_AGE', 'VICTIM_DEGREE_OF_INJURY', 'VICTIM_SEATING_POSITION',\n",
      "       'VICTIM_SAFETY_EQUIP_1', 'VICTIM_SAFETY_EQUIP_2', 'VICTIM_EJECTED',\n",
      "       'COUNTY', 'CITY', 'ACCIDENT_YEAR'],\n",
      "      dtype='object')\n"
     ]
    }
   ],
   "source": [
    "# Afficher les différentes variables\n",
    "print(df.columns)"
   ]
  },
  {
   "cell_type": "code",
   "execution_count": 15,
   "metadata": {
    "colab": {
     "base_uri": "https://localhost:8080/"
    },
    "id": "1dsrXwNKeuuQ",
    "outputId": "915ae963-2e6c-4594-9bfe-74354f63aca5"
   },
   "outputs": [
    {
     "name": "stdout",
     "output_type": "stream",
     "text": [
      "CASE_ID                    249156\n",
      "PARTY_NUMBER                   14\n",
      "VICTIM_NUMBER                  99\n",
      "VICTIM_ROLE                     6\n",
      "VICTIM_SEX                     10\n",
      "VICTIM_AGE                    123\n",
      "VICTIM_DEGREE_OF_INJURY         8\n",
      "VICTIM_SEATING_POSITION        14\n",
      "VICTIM_SAFETY_EQUIP_1          37\n",
      "VICTIM_SAFETY_EQUIP_2          29\n",
      "VICTIM_EJECTED                 18\n",
      "COUNTY                          1\n",
      "CITY                           86\n",
      "ACCIDENT_YEAR                   5\n",
      "dtype: int64\n"
     ]
    }
   ],
   "source": [
    "# Afficher les valeurs uniques par variable\n",
    "unique_counts = df.nunique()\n",
    "print(unique_counts)"
   ]
  },
  {
   "cell_type": "code",
   "execution_count": 16,
   "metadata": {
    "colab": {
     "base_uri": "https://localhost:8080/"
    },
    "id": "WRhZwYhNDVQT",
    "outputId": "dbd0dbf6-6195-4ccc-9a18-262287682240"
   },
   "outputs": [
    {
     "name": "stdout",
     "output_type": "stream",
     "text": [
      "<class 'pandas.core.frame.DataFrame'>\n",
      "RangeIndex: 412577 entries, 0 to 412576\n",
      "Data columns (total 14 columns):\n",
      " #   Column                   Non-Null Count   Dtype \n",
      "---  ------                   --------------   ----- \n",
      " 0   CASE_ID                  412577 non-null  int64 \n",
      " 1   PARTY_NUMBER             412577 non-null  int64 \n",
      " 2   VICTIM_NUMBER            412577 non-null  int64 \n",
      " 3   VICTIM_ROLE              412577 non-null  int64 \n",
      " 4   VICTIM_SEX               412577 non-null  object\n",
      " 5   VICTIM_AGE               412577 non-null  int64 \n",
      " 6   VICTIM_DEGREE_OF_INJURY  412577 non-null  int64 \n",
      " 7   VICTIM_SEATING_POSITION  412577 non-null  object\n",
      " 8   VICTIM_SAFETY_EQUIP_1    412577 non-null  object\n",
      " 9   VICTIM_SAFETY_EQUIP_2    412577 non-null  object\n",
      " 10  VICTIM_EJECTED           412577 non-null  object\n",
      " 11  COUNTY                   412577 non-null  object\n",
      " 12  CITY                     412577 non-null  object\n",
      " 13  ACCIDENT_YEAR            412577 non-null  int64 \n",
      "dtypes: int64(7), object(7)\n",
      "memory usage: 44.1+ MB\n"
     ]
    }
   ],
   "source": [
    "# Afficher la classe des variables\n",
    "df.info()"
   ]
  },
  {
   "cell_type": "markdown",
   "metadata": {
    "id": "Ef-Sy71D-Zq7"
   },
   "source": [
    "### 2.1. Suppression, regroupement et reclassification des variables"
   ]
  },
  {
   "cell_type": "code",
   "execution_count": 17,
   "metadata": {
    "id": "e2pdPk4NbFar"
   },
   "outputs": [],
   "source": [
    "# Suppression des variables redondantes\n",
    "variables_to_drop = ['CASE_ID','COUNTY','VICTIM_NUMBER','CITY']\n",
    "df = df.drop(columns=variables_to_drop, axis=1)"
   ]
  },
  {
   "cell_type": "code",
   "execution_count": 18,
   "metadata": {
    "id": "8d1y7Gze11LC"
   },
   "outputs": [],
   "source": [
    "# Changer les noms des variables\n",
    "new_variables_names = {\n",
    "    'PARTY_NUMBER':'PARTY_NUM',\n",
    "    'VICTIM_ROLE':'ROLE',\n",
    "    'VICTIM_SEX':'SEX',\n",
    "    'VICTIM_AGE':'AGE',\n",
    "    'VICTIM_DEGREE_OF_INJURY':'INJ_SEV',\n",
    "    'VICTIM_SEATING_POSITION':'SEAT_POS',\n",
    "    'VICTIM_SAFETY_EQUIP_1':'EQUIP_1',\n",
    "    'VICTIM_SAFETY_EQUIP_2':'EQUIP_2',\n",
    "    'VICTIM_EJECTED':'EJECTED',\n",
    "    'ACCIDENT_YEAR':'YEAR'\n",
    "    }\n",
    "\n",
    "df = df.rename(columns=new_variables_names)"
   ]
  },
  {
   "cell_type": "code",
   "execution_count": 19,
   "metadata": {
    "colab": {
     "base_uri": "https://localhost:8080/"
    },
    "id": "9_vbGIZBMI0s",
    "outputId": "9b8ff7f9-0c4f-450d-c0df-7cdbf3a28a67"
   },
   "outputs": [
    {
     "name": "stdout",
     "output_type": "stream",
     "text": [
      "Index(['PARTY_NUM', 'ROLE', 'AGE', 'INJ_SEV', 'YEAR'], dtype='object')\n",
      "\n",
      "\n",
      "Index(['SEX', 'SEAT_POS', 'EQUIP_1', 'EQUIP_2', 'EJECTED'], dtype='object')\n"
     ]
    }
   ],
   "source": [
    "# Identifier les variables quantitatives\n",
    "num_var = df.select_dtypes(include=[np.number]).columns\n",
    "print(num_var)\n",
    "print(\"\\n\")\n",
    "\n",
    "# Identifier les variables qualitatives\n",
    "cat_var = df.select_dtypes(include=[object]).columns\n",
    "print(cat_var)"
   ]
  },
  {
   "cell_type": "code",
   "execution_count": 20,
   "metadata": {
    "id": "eGMvYGNFmdOV"
   },
   "outputs": [],
   "source": [
    "# Convertir les variables mal classées\n",
    "df[num_var] = df[num_var].astype(int)\n",
    "df['INJ_SEV'] = df['INJ_SEV'].astype(object)\n",
    "df['ROLE'] = df['ROLE'].astype(object)"
   ]
  },
  {
   "cell_type": "code",
   "execution_count": 21,
   "metadata": {
    "colab": {
     "base_uri": "https://localhost:8080/"
    },
    "id": "9eHsvZ-o3cm9",
    "outputId": "14885b59-2930-40f8-f0fc-256f8fdbc40c"
   },
   "outputs": [
    {
     "name": "stdout",
     "output_type": "stream",
     "text": [
      "Index(['PARTY_NUM', 'ROLE', 'SEX', 'AGE', 'INJ_SEV', 'SEAT_POS', 'EQUIP_1',\n",
      "       'EQUIP_2', 'EJECTED', 'YEAR'],\n",
      "      dtype='object')\n",
      "Variables quanti: Index(['PARTY_NUM', 'ROLE', 'AGE', 'INJ_SEV', 'YEAR'], dtype='object')\n",
      "Variables quali: Index(['SEX', 'SEAT_POS', 'EQUIP_1', 'EQUIP_2', 'EJECTED'], dtype='object')\n"
     ]
    }
   ],
   "source": [
    "# Afficher les nouvelles variables\n",
    "print(df.columns)\n",
    "print(f\"Variables quanti: {num_var}\")\n",
    "print(f\"Variables quali: {cat_var}\")"
   ]
  },
  {
   "cell_type": "code",
   "execution_count": 22,
   "metadata": {
    "colab": {
     "base_uri": "https://localhost:8080/"
    },
    "id": "Y1Sn1j1jjgD1",
    "outputId": "525ae394-0620-4e32-e82a-705044bbad63"
   },
   "outputs": [
    {
     "name": "stdout",
     "output_type": "stream",
     "text": [
      "<class 'pandas.core.frame.DataFrame'>\n",
      "RangeIndex: 412577 entries, 0 to 412576\n",
      "Data columns (total 10 columns):\n",
      " #   Column     Non-Null Count   Dtype \n",
      "---  ------     --------------   ----- \n",
      " 0   PARTY_NUM  412577 non-null  int32 \n",
      " 1   ROLE       412577 non-null  object\n",
      " 2   SEX        412577 non-null  object\n",
      " 3   AGE        412577 non-null  int32 \n",
      " 4   INJ_SEV    412577 non-null  object\n",
      " 5   SEAT_POS   412577 non-null  object\n",
      " 6   EQUIP_1    412577 non-null  object\n",
      " 7   EQUIP_2    412577 non-null  object\n",
      " 8   EJECTED    412577 non-null  object\n",
      " 9   YEAR       412577 non-null  int32 \n",
      "dtypes: int32(3), object(7)\n",
      "memory usage: 26.8+ MB\n",
      "\n",
      "Dimensions du dataset: (412577, 10)\n"
     ]
    }
   ],
   "source": [
    "# Afficher le type de chaque variable\n",
    "df.info()\n",
    "\n",
    "# Afficher les dimensions du dataset\n",
    "shape1 = df.shape\n",
    "print(f\"\\nDimensions du dataset: {shape1}\")"
   ]
  },
  {
   "cell_type": "code",
   "execution_count": 23,
   "metadata": {
    "colab": {
     "base_uri": "https://localhost:8080/"
    },
    "id": "V7bt7n6a3ymH",
    "outputId": "22dfe71f-d498-4814-f71e-f99afd70043a"
   },
   "outputs": [
    {
     "name": "stdout",
     "output_type": "stream",
     "text": [
      "Variables quanti : Index(['PARTY_NUM', 'AGE', 'YEAR'], dtype='object')\n",
      "\n",
      "\n",
      "Variables quali : Index(['ROLE', 'SEX', 'INJ_SEV', 'SEAT_POS', 'EQUIP_1', 'EQUIP_2', 'EJECTED'], dtype='object')\n"
     ]
    }
   ],
   "source": [
    "# Identifier les nouvelles variables quantitatives\n",
    "num_var = df.select_dtypes(include=[np.number]).columns\n",
    "print(f\"Variables quanti : {num_var}\")\n",
    "print(\"\\n\")\n",
    "\n",
    "# Identifier les nouvelles variables qualitatives\n",
    "cat_var = df.select_dtypes(include=[object]).columns\n",
    "print(f\"Variables quali : {cat_var}\")"
   ]
  },
  {
   "cell_type": "code",
   "execution_count": 24,
   "metadata": {
    "colab": {
     "base_uri": "https://localhost:8080/",
     "height": 300
    },
    "id": "AdUMb8pnjnnv",
    "outputId": "f4d9f845-2c98-4d4b-9c3d-e03588ffa3b1"
   },
   "outputs": [
    {
     "data": {
      "text/html": [
       "<div>\n",
       "<style scoped>\n",
       "    .dataframe tbody tr th:only-of-type {\n",
       "        vertical-align: middle;\n",
       "    }\n",
       "\n",
       "    .dataframe tbody tr th {\n",
       "        vertical-align: top;\n",
       "    }\n",
       "\n",
       "    .dataframe thead th {\n",
       "        text-align: right;\n",
       "    }\n",
       "</style>\n",
       "<table border=\"1\" class=\"dataframe\">\n",
       "  <thead>\n",
       "    <tr style=\"text-align: right;\">\n",
       "      <th></th>\n",
       "      <th>PARTY_NUM</th>\n",
       "      <th>AGE</th>\n",
       "      <th>YEAR</th>\n",
       "    </tr>\n",
       "  </thead>\n",
       "  <tbody>\n",
       "    <tr>\n",
       "      <th>count</th>\n",
       "      <td>412577.000000</td>\n",
       "      <td>412577.000000</td>\n",
       "      <td>412577.000000</td>\n",
       "    </tr>\n",
       "    <tr>\n",
       "      <th>mean</th>\n",
       "      <td>1.691900</td>\n",
       "      <td>59.696515</td>\n",
       "      <td>2019.689641</td>\n",
       "    </tr>\n",
       "    <tr>\n",
       "      <th>std</th>\n",
       "      <td>0.668724</td>\n",
       "      <td>149.759804</td>\n",
       "      <td>1.398149</td>\n",
       "    </tr>\n",
       "    <tr>\n",
       "      <th>min</th>\n",
       "      <td>1.000000</td>\n",
       "      <td>0.000000</td>\n",
       "      <td>2018.000000</td>\n",
       "    </tr>\n",
       "    <tr>\n",
       "      <th>25%</th>\n",
       "      <td>1.000000</td>\n",
       "      <td>23.000000</td>\n",
       "      <td>2018.000000</td>\n",
       "    </tr>\n",
       "    <tr>\n",
       "      <th>50%</th>\n",
       "      <td>2.000000</td>\n",
       "      <td>33.000000</td>\n",
       "      <td>2019.000000</td>\n",
       "    </tr>\n",
       "    <tr>\n",
       "      <th>75%</th>\n",
       "      <td>2.000000</td>\n",
       "      <td>51.000000</td>\n",
       "      <td>2021.000000</td>\n",
       "    </tr>\n",
       "    <tr>\n",
       "      <th>max</th>\n",
       "      <td>16.000000</td>\n",
       "      <td>998.000000</td>\n",
       "      <td>2022.000000</td>\n",
       "    </tr>\n",
       "  </tbody>\n",
       "</table>\n",
       "</div>"
      ],
      "text/plain": [
       "           PARTY_NUM            AGE           YEAR\n",
       "count  412577.000000  412577.000000  412577.000000\n",
       "mean        1.691900      59.696515    2019.689641\n",
       "std         0.668724     149.759804       1.398149\n",
       "min         1.000000       0.000000    2018.000000\n",
       "25%         1.000000      23.000000    2018.000000\n",
       "50%         2.000000      33.000000    2019.000000\n",
       "75%         2.000000      51.000000    2021.000000\n",
       "max        16.000000     998.000000    2022.000000"
      ]
     },
     "execution_count": 24,
     "metadata": {},
     "output_type": "execute_result"
    }
   ],
   "source": [
    "# Afficher le résumé des variables quanti\n",
    "df.describe()"
   ]
  },
  {
   "cell_type": "markdown",
   "metadata": {
    "id": "F7hd718LXlsE"
   },
   "source": [
    "#### Remplacement des valeurs"
   ]
  },
  {
   "cell_type": "code",
   "execution_count": 25,
   "metadata": {
    "id": "T6-A_nDAzeER"
   },
   "outputs": [],
   "source": [
    "# Remplacement des valeurs montrant l'absence d'information\n",
    "# Créer un dictionnaire des valeurs à remplacer\n",
    "values_to_replace = {\n",
    "    'SEAT_POS': ['-','9'],\n",
    "    'SEX': '-',\n",
    "    'AGE': 998,\n",
    "    'EJECTED': ['-',' ','3','4'],\n",
    "    'EQUIP_1': ['-',' ', 'B'],\n",
    "    'EQUIP_2': ['-',' ', 'B']\n",
    "}\n",
    "\n",
    "# Valeurs de remplacement\n",
    "df.replace(values_to_replace, np.nan, inplace=True)"
   ]
  },
  {
   "cell_type": "markdown",
   "metadata": {
    "id": "4E6H4igx23GV"
   },
   "source": [
    "### Réduction des modalités des variables et regroupement"
   ]
  },
  {
   "cell_type": "markdown",
   "metadata": {
    "id": "oYoK_7IVPYny"
   },
   "source": [
    "##### Remplacer les erreurs de frappe par NaN"
   ]
  },
  {
   "cell_type": "code",
   "execution_count": 26,
   "metadata": {
    "id": "ka3VTkUkPcdg"
   },
   "outputs": [],
   "source": [
    "# Replace values in 'SEX' variable that are not 'M', 'F', or NaN with NaN\n",
    "df.loc[~df['SEX'].isin(['M', 'F', np.nan]), 'SEX'] = np.nan\n",
    "\n",
    "# Adding a cap of 80 in the 'AGE' variable\n",
    "df.loc[df['AGE'] > 80, 'AGE'] = 80\n",
    "\n",
    "# Replace abnormal values in 'EQUIP_1' and 'EQUIP_2' with NaN\n",
    "valid_values = ['A', 'B', 'C', 'D', 'E', 'F', 'G', 'H', 'I', 'J',\n",
    "                'K', 'L', 'M', 'N', 'O', 'P', 'Q', 'R', 'S', 'T',\n",
    "                'U', 'V', 'W', 'X', 'Y', pd.NA]\n",
    "df.loc[~df['EQUIP_1'].isin(valid_values), 'EQUIP_1'] = np.nan\n",
    "df.loc[~df['EQUIP_2'].isin(valid_values), 'EQUIP_2'] = np.nan\n",
    "\n",
    "# Replace abnormal values in 'EJECTED' by NaN\n",
    "valid_values_ejected = ['0', '1', '2', '3', pd.NA]\n",
    "df.loc[~df['EJECTED'].isin(valid_values_ejected), 'EJECTED'] = np.nan"
   ]
  },
  {
   "cell_type": "code",
   "execution_count": 27,
   "metadata": {
    "colab": {
     "base_uri": "https://localhost:8080/",
     "height": 206
    },
    "id": "-sD01WbRWOYI",
    "outputId": "1b0810c4-491f-441c-c2c1-a6b1d1c04add"
   },
   "outputs": [
    {
     "data": {
      "text/html": [
       "<div>\n",
       "<style scoped>\n",
       "    .dataframe tbody tr th:only-of-type {\n",
       "        vertical-align: middle;\n",
       "    }\n",
       "\n",
       "    .dataframe tbody tr th {\n",
       "        vertical-align: top;\n",
       "    }\n",
       "\n",
       "    .dataframe thead th {\n",
       "        text-align: right;\n",
       "    }\n",
       "</style>\n",
       "<table border=\"1\" class=\"dataframe\">\n",
       "  <thead>\n",
       "    <tr style=\"text-align: right;\">\n",
       "      <th></th>\n",
       "      <th>Total</th>\n",
       "      <th>Pourcentage</th>\n",
       "    </tr>\n",
       "  </thead>\n",
       "  <tbody>\n",
       "    <tr>\n",
       "      <th>EQUIP_2</th>\n",
       "      <td>50132</td>\n",
       "      <td>12.150944</td>\n",
       "    </tr>\n",
       "    <tr>\n",
       "      <th>EQUIP_1</th>\n",
       "      <td>36409</td>\n",
       "      <td>8.824777</td>\n",
       "    </tr>\n",
       "    <tr>\n",
       "      <th>EJECTED</th>\n",
       "      <td>33891</td>\n",
       "      <td>8.214467</td>\n",
       "    </tr>\n",
       "    <tr>\n",
       "      <th>SEAT_POS</th>\n",
       "      <td>33264</td>\n",
       "      <td>8.062495</td>\n",
       "    </tr>\n",
       "    <tr>\n",
       "      <th>SEX</th>\n",
       "      <td>10326</td>\n",
       "      <td>2.502806</td>\n",
       "    </tr>\n",
       "  </tbody>\n",
       "</table>\n",
       "</div>"
      ],
      "text/plain": [
       "          Total  Pourcentage\n",
       "EQUIP_2   50132    12.150944\n",
       "EQUIP_1   36409     8.824777\n",
       "EJECTED   33891     8.214467\n",
       "SEAT_POS  33264     8.062495\n",
       "SEX       10326     2.502806"
      ]
     },
     "execution_count": 27,
     "metadata": {},
     "output_type": "execute_result"
    }
   ],
   "source": [
    "# Afficher la nouvelle proportion de valeurs manquantes\n",
    "total = df.isnull().sum().sort_values(ascending=False)\n",
    "percent = (df.isnull().sum() * 100 / df.isnull().count()).sort_values(\n",
    "    ascending=False\n",
    ")\n",
    "df_missing_data = pd.concat([total, percent], axis=1, keys=[\"Total\", \"Pourcentage\"])\n",
    "df_missing_data.head()"
   ]
  },
  {
   "cell_type": "code",
   "execution_count": 28,
   "metadata": {
    "colab": {
     "base_uri": "https://localhost:8080/"
    },
    "id": "qT8ptxl3-Ge-",
    "outputId": "4b917bf5-b854-469a-ffeb-fc8d7e646608"
   },
   "outputs": [
    {
     "name": "stdout",
     "output_type": "stream",
     "text": [
      "Unique values in PARTY_NUM:\n",
      "[ 1  2  3  4  5  6  7 11  8  9 10 12 13 16]\n",
      "\n",
      "Unique values in ROLE:\n",
      "[1 2 3 4 5 6]\n",
      "\n",
      "Unique values in SEX:\n",
      "['F' 'M' nan]\n",
      "\n",
      "Unique values in AGE:\n",
      "[27. 59. 28.  3.  1. 50. 20. 17. 23. 10. 49. 62. 52. 47. 34. 54. 37. 77.\n",
      " 51. 46. 56. 21. 63. 75. 45. 42. 30. 29. 61. 57.  4. 66. 48. 25. 35. 36.\n",
      " nan 31. 16.  8. 26. 38. 44. 18. 33.  7. 22.  9.  2. 55. 43. 39. 53. 11.\n",
      " 32. 40. 19.  5. 69. 79. 24. 67. 58. 12. 71. 14. 80. 73. 41. 72. 68. 64.\n",
      " 13. 60. 15. 65.  0. 70. 74.  6. 76. 78.]\n",
      "\n",
      "Unique values in INJ_SEV:\n",
      "[3 4 0 7 6 2 1 5]\n",
      "\n",
      "Unique values in SEAT_POS:\n",
      "['1' '6' '4' nan '3' '2' '0' '7' '5' '8' 'B' 'A' 'C']\n",
      "\n",
      "Unique values in EQUIP_1:\n",
      "['M' nan 'G' 'P' 'L' 'V' 'N' 'W' 'A' 'Y' 'H' 'Q' 'K' 'E' 'C' 'J' 'F' 'X'\n",
      " 'U' 'I' 'D' 'R' 'T' 'S' 'O']\n",
      "\n",
      "Unique values in EQUIP_2:\n",
      "['G' 'Q' nan 'W' 'V' 'C' 'M' 'L' 'P' 'U' 'F' 'H' 'A' 'E' 'J' 'X' 'Y' 'S'\n",
      " 'D' 'T' 'R' 'N' 'K']\n",
      "\n",
      "Unique values in EJECTED:\n",
      "['0' nan '1' '2']\n",
      "\n",
      "Unique values in YEAR:\n",
      "[2019 2021 2022 2020 2018]\n",
      "\n"
     ]
    }
   ],
   "source": [
    "# Afficher les valeurs uniques de chaque variable\n",
    "for column in df.columns:\n",
    "    unique_values = df[column].unique()\n",
    "    print(f\"Unique values in {column}:\")\n",
    "    print(unique_values)\n",
    "    print()"
   ]
  },
  {
   "cell_type": "code",
   "execution_count": 29,
   "metadata": {
    "colab": {
     "base_uri": "https://localhost:8080/"
    },
    "id": "MUX3hnq82mmN",
    "outputId": "5d8b4e2e-da55-486c-810a-4852cd0d282c"
   },
   "outputs": [
    {
     "name": "stdout",
     "output_type": "stream",
     "text": [
      "Nombre de foetus dans la variable 'AGE' du dataset: 0\n"
     ]
    }
   ],
   "source": [
    "# Afficher le nombre d'observations de \"AGE\" = 999\n",
    "count_999 = df['AGE'].eq(999).sum()\n",
    "print(f\"Nombre de foetus dans la variable 'AGE' du dataset: {count_999}\")"
   ]
  },
  {
   "cell_type": "markdown",
   "metadata": {
    "id": "ufhPKobtWTRT"
   },
   "source": [
    "#### Regroupement des modalités et création de nouvelles variables"
   ]
  },
  {
   "cell_type": "code",
   "execution_count": 30,
   "metadata": {
    "colab": {
     "base_uri": "https://localhost:8080/"
    },
    "id": "BQKLtdBz-5P1",
    "outputId": "c87e2f52-c886-422e-a58c-33d51840cf7d"
   },
   "outputs": [
    {
     "name": "stderr",
     "output_type": "stream",
     "text": [
      "C:\\Users\\kouac\\AppData\\Local\\Temp\\ipykernel_4224\\2690718912.py:3: FutureWarning: Boolean inputs to the `inclusive` argument are deprecated in favour of `both` or `neither`.\n",
      "  df.loc[df['SEAT_POS'].str.isalpha() & df['SEAT_POS'].between('A', 'Z', inclusive=True), 'VEHICLE_TYPE'] = 'BUS'\n"
     ]
    }
   ],
   "source": [
    "# Créer une variable 'VEHICLE_TYPE'\n",
    "df['VEHICLE_TYPE'] = 'CAR'\n",
    "df.loc[df['SEAT_POS'].str.isalpha() & df['SEAT_POS'].between('A', 'Z', inclusive=True), 'VEHICLE_TYPE'] = 'BUS'\n",
    "df.loc[df['EQUIP_1'].isin(['V', 'W', 'X', 'Y']) | df['EQUIP_2'].isin(['V', 'W', 'X', 'Y']), 'VEHICLE_TYPE'] = 'BIKE'\n",
    "df.loc[df['EQUIP_1'].isnull() & df['EQUIP_2'].isnull() & df['SEAT_POS'].isnull(), 'VEHICLE_TYPE'] = np.nan"
   ]
  },
  {
   "cell_type": "code",
   "execution_count": 31,
   "metadata": {
    "id": "UhxLOx0W-_Po"
   },
   "outputs": [],
   "source": [
    "# Créer une variable 'POSITION'\n",
    "df['POSITION'] = 'BACK'\n",
    "df.loc[df['SEAT_POS'].isin(['1', '2']) | df['ROLE'].isin(['1']), 'POSITION']  = 'FRONT'\n",
    "df.loc[df['SEAT_POS'].isnull(), 'POSITION'] = np.nan"
   ]
  },
  {
   "cell_type": "code",
   "execution_count": 32,
   "metadata": {
    "id": "iWjMJld-FlvV"
   },
   "outputs": [],
   "source": [
    "# Créer une variable 'STATE'\n",
    "df['STATE'] = np.nan\n",
    "df.loc[df['INJ_SEV'] == 0, 'STATE'] = 'DEAD'\n",
    "df.loc[df['INJ_SEV'].isin([1,2,3,4,5,6]), 'STATE'] = 'INJURED'\n",
    "df.loc[df['INJ_SEV'] == 7, 'STATE'] = 'NOT INJURED'"
   ]
  },
  {
   "cell_type": "code",
   "execution_count": 33,
   "metadata": {
    "id": "z8Rq9zuZ21vf"
   },
   "outputs": [],
   "source": [
    "# Variable 'ROLE'\n",
    "df.loc[~df['ROLE'].isin([1, 2, np.nan]), 'ROLE'] = 2\n",
    "df['ROLE'] = df['ROLE'].replace({1: 'DRIVER', 2: 'PASSENGER'})"
   ]
  },
  {
   "cell_type": "code",
   "execution_count": 34,
   "metadata": {
    "id": "yXeKHUbx35Vh"
   },
   "outputs": [],
   "source": [
    "# Variable 'EJECTED'\n",
    "df.loc[~df['EJECTED'].isin(['0', '1', np.nan]), 'EJECTED'] = '1'\n",
    "df['EJECTED'] = df['EJECTED'].replace({'0': 'NOT EJECTED', '1': 'EJECTED'})"
   ]
  },
  {
   "cell_type": "code",
   "execution_count": 35,
   "metadata": {
    "id": "6mlfghNw3g9m"
   },
   "outputs": [],
   "source": [
    "# Variable 'EQUIP_1'\n",
    "df.loc[df['EQUIP_1'].isin(['C', 'E', 'G', 'J', 'Q']), 'EQUIP_1'] = 'BELT'\n",
    "df.loc[df['EQUIP_1'] == 'L', 'EQUIP_1'] = 'AIRBAG'\n",
    "df.loc[df['EQUIP_1'].isin(['W', 'Y']), 'EQUIP_1'] = 'HELMET'\n",
    "df.loc[~df['EQUIP_1'].isin(['BELT', 'AIRBAG', 'HELMET', np.nan]), 'EQUIP_1'] = 'NONE'"
   ]
  },
  {
   "cell_type": "code",
   "execution_count": 36,
   "metadata": {
    "id": "xB9eSD21U5g7"
   },
   "outputs": [],
   "source": [
    "# Variable 'EQUIP_2'\n",
    "df.loc[df['EQUIP_2'].isin(['C', 'E', 'G', 'J', 'Q']), 'EQUIP_2'] = 'BELT'\n",
    "df.loc[df['EQUIP_2'] == 'L', 'EQUIP_2'] = 'AIRBAG'\n",
    "df.loc[df['EQUIP_2'].isin(['W', 'Y']), 'EQUIP_2'] = 'HELMET'\n",
    "df.loc[~df['EQUIP_2'].isin(['BELT', 'AIRBAG', 'HELMET', np.nan]), 'EQUIP_2'] = 'NONE'"
   ]
  },
  {
   "cell_type": "code",
   "execution_count": 37,
   "metadata": {
    "colab": {
     "base_uri": "https://localhost:8080/"
    },
    "id": "utvj_6I9Wj3L",
    "outputId": "012bf364-e6cc-48e9-f8ac-a34403b1bbfb"
   },
   "outputs": [
    {
     "name": "stdout",
     "output_type": "stream",
     "text": [
      "Unique values in PARTY_NUM:\n",
      "[ 1  2  3  4  5  6  7 11  8  9 10 12 13 16]\n",
      "\n",
      "Unique values in ROLE:\n",
      "['DRIVER' 'PASSENGER']\n",
      "\n",
      "Unique values in SEX:\n",
      "['F' 'M' nan]\n",
      "\n",
      "Unique values in AGE:\n",
      "[27. 59. 28.  3.  1. 50. 20. 17. 23. 10. 49. 62. 52. 47. 34. 54. 37. 77.\n",
      " 51. 46. 56. 21. 63. 75. 45. 42. 30. 29. 61. 57.  4. 66. 48. 25. 35. 36.\n",
      " nan 31. 16.  8. 26. 38. 44. 18. 33.  7. 22.  9.  2. 55. 43. 39. 53. 11.\n",
      " 32. 40. 19.  5. 69. 79. 24. 67. 58. 12. 71. 14. 80. 73. 41. 72. 68. 64.\n",
      " 13. 60. 15. 65.  0. 70. 74.  6. 76. 78.]\n",
      "\n",
      "Unique values in INJ_SEV:\n",
      "[3 4 0 7 6 2 1 5]\n",
      "\n",
      "Unique values in SEAT_POS:\n",
      "['1' '6' '4' nan '3' '2' '0' '7' '5' '8' 'B' 'A' 'C']\n",
      "\n",
      "Unique values in EQUIP_1:\n",
      "['NONE' nan 'BELT' 'AIRBAG' 'HELMET']\n",
      "\n",
      "Unique values in EQUIP_2:\n",
      "['BELT' nan 'HELMET' 'NONE' 'AIRBAG']\n",
      "\n",
      "Unique values in EJECTED:\n",
      "['NOT EJECTED' nan 'EJECTED']\n",
      "\n",
      "Unique values in YEAR:\n",
      "[2019 2021 2022 2020 2018]\n",
      "\n",
      "Unique values in VEHICLE_TYPE:\n",
      "['CAR' nan 'BIKE' 'BUS']\n",
      "\n",
      "Unique values in POSITION:\n",
      "['FRONT' 'BACK' nan]\n",
      "\n",
      "Unique values in STATE:\n",
      "['INJURED' 'DEAD' 'NOT INJURED']\n",
      "\n"
     ]
    }
   ],
   "source": [
    "# Afficher les valeurs uniques de chaque variable\n",
    "for column in df.columns:\n",
    "    unique_values = df[column].unique()\n",
    "    print(f\"Unique values in {column}:\")\n",
    "    print(unique_values)\n",
    "    print()"
   ]
  },
  {
   "cell_type": "code",
   "execution_count": 38,
   "metadata": {
    "colab": {
     "base_uri": "https://localhost:8080/",
     "height": 520
    },
    "id": "ScmieI2CXv4j",
    "outputId": "026541b2-ad02-4a0b-8069-0ec86cea702e"
   },
   "outputs": [
    {
     "data": {
      "text/html": [
       "<div>\n",
       "<style scoped>\n",
       "    .dataframe tbody tr th:only-of-type {\n",
       "        vertical-align: middle;\n",
       "    }\n",
       "\n",
       "    .dataframe tbody tr th {\n",
       "        vertical-align: top;\n",
       "    }\n",
       "\n",
       "    .dataframe thead th {\n",
       "        text-align: right;\n",
       "    }\n",
       "</style>\n",
       "<table border=\"1\" class=\"dataframe\">\n",
       "  <thead>\n",
       "    <tr style=\"text-align: right;\">\n",
       "      <th></th>\n",
       "      <th>PARTY_NUM</th>\n",
       "      <th>ROLE</th>\n",
       "      <th>SEX</th>\n",
       "      <th>AGE</th>\n",
       "      <th>INJ_SEV</th>\n",
       "      <th>SEAT_POS</th>\n",
       "      <th>EQUIP_1</th>\n",
       "      <th>EQUIP_2</th>\n",
       "      <th>EJECTED</th>\n",
       "      <th>YEAR</th>\n",
       "      <th>VEHICLE_TYPE</th>\n",
       "      <th>POSITION</th>\n",
       "      <th>STATE</th>\n",
       "    </tr>\n",
       "  </thead>\n",
       "  <tbody>\n",
       "    <tr>\n",
       "      <th>0</th>\n",
       "      <td>1</td>\n",
       "      <td>DRIVER</td>\n",
       "      <td>F</td>\n",
       "      <td>27.0</td>\n",
       "      <td>3</td>\n",
       "      <td>1</td>\n",
       "      <td>NONE</td>\n",
       "      <td>BELT</td>\n",
       "      <td>NOT EJECTED</td>\n",
       "      <td>2019</td>\n",
       "      <td>CAR</td>\n",
       "      <td>FRONT</td>\n",
       "      <td>INJURED</td>\n",
       "    </tr>\n",
       "    <tr>\n",
       "      <th>1</th>\n",
       "      <td>1</td>\n",
       "      <td>DRIVER</td>\n",
       "      <td>M</td>\n",
       "      <td>59.0</td>\n",
       "      <td>4</td>\n",
       "      <td>1</td>\n",
       "      <td>NONE</td>\n",
       "      <td>BELT</td>\n",
       "      <td>NOT EJECTED</td>\n",
       "      <td>2019</td>\n",
       "      <td>CAR</td>\n",
       "      <td>FRONT</td>\n",
       "      <td>INJURED</td>\n",
       "    </tr>\n",
       "    <tr>\n",
       "      <th>2</th>\n",
       "      <td>2</td>\n",
       "      <td>DRIVER</td>\n",
       "      <td>M</td>\n",
       "      <td>28.0</td>\n",
       "      <td>4</td>\n",
       "      <td>1</td>\n",
       "      <td>NONE</td>\n",
       "      <td>BELT</td>\n",
       "      <td>NOT EJECTED</td>\n",
       "      <td>2019</td>\n",
       "      <td>CAR</td>\n",
       "      <td>FRONT</td>\n",
       "      <td>INJURED</td>\n",
       "    </tr>\n",
       "    <tr>\n",
       "      <th>3</th>\n",
       "      <td>2</td>\n",
       "      <td>PASSENGER</td>\n",
       "      <td>M</td>\n",
       "      <td>3.0</td>\n",
       "      <td>0</td>\n",
       "      <td>6</td>\n",
       "      <td>NONE</td>\n",
       "      <td>BELT</td>\n",
       "      <td>NOT EJECTED</td>\n",
       "      <td>2019</td>\n",
       "      <td>CAR</td>\n",
       "      <td>BACK</td>\n",
       "      <td>DEAD</td>\n",
       "    </tr>\n",
       "    <tr>\n",
       "      <th>4</th>\n",
       "      <td>2</td>\n",
       "      <td>PASSENGER</td>\n",
       "      <td>M</td>\n",
       "      <td>1.0</td>\n",
       "      <td>0</td>\n",
       "      <td>4</td>\n",
       "      <td>NONE</td>\n",
       "      <td>BELT</td>\n",
       "      <td>NOT EJECTED</td>\n",
       "      <td>2019</td>\n",
       "      <td>CAR</td>\n",
       "      <td>BACK</td>\n",
       "      <td>DEAD</td>\n",
       "    </tr>\n",
       "    <tr>\n",
       "      <th>5</th>\n",
       "      <td>2</td>\n",
       "      <td>DRIVER</td>\n",
       "      <td>F</td>\n",
       "      <td>50.0</td>\n",
       "      <td>4</td>\n",
       "      <td>NaN</td>\n",
       "      <td>NaN</td>\n",
       "      <td>NaN</td>\n",
       "      <td>NaN</td>\n",
       "      <td>2019</td>\n",
       "      <td>NaN</td>\n",
       "      <td>NaN</td>\n",
       "      <td>INJURED</td>\n",
       "    </tr>\n",
       "    <tr>\n",
       "      <th>6</th>\n",
       "      <td>1</td>\n",
       "      <td>DRIVER</td>\n",
       "      <td>F</td>\n",
       "      <td>20.0</td>\n",
       "      <td>4</td>\n",
       "      <td>1</td>\n",
       "      <td>BELT</td>\n",
       "      <td>NaN</td>\n",
       "      <td>NOT EJECTED</td>\n",
       "      <td>2021</td>\n",
       "      <td>CAR</td>\n",
       "      <td>FRONT</td>\n",
       "      <td>INJURED</td>\n",
       "    </tr>\n",
       "    <tr>\n",
       "      <th>7</th>\n",
       "      <td>2</td>\n",
       "      <td>DRIVER</td>\n",
       "      <td>F</td>\n",
       "      <td>17.0</td>\n",
       "      <td>7</td>\n",
       "      <td>1</td>\n",
       "      <td>NONE</td>\n",
       "      <td>HELMET</td>\n",
       "      <td>NOT EJECTED</td>\n",
       "      <td>2022</td>\n",
       "      <td>BIKE</td>\n",
       "      <td>FRONT</td>\n",
       "      <td>NOT INJURED</td>\n",
       "    </tr>\n",
       "    <tr>\n",
       "      <th>8</th>\n",
       "      <td>2</td>\n",
       "      <td>PASSENGER</td>\n",
       "      <td>F</td>\n",
       "      <td>23.0</td>\n",
       "      <td>3</td>\n",
       "      <td>NaN</td>\n",
       "      <td>NaN</td>\n",
       "      <td>NaN</td>\n",
       "      <td>NaN</td>\n",
       "      <td>2020</td>\n",
       "      <td>NaN</td>\n",
       "      <td>NaN</td>\n",
       "      <td>INJURED</td>\n",
       "    </tr>\n",
       "    <tr>\n",
       "      <th>9</th>\n",
       "      <td>2</td>\n",
       "      <td>PASSENGER</td>\n",
       "      <td>F</td>\n",
       "      <td>50.0</td>\n",
       "      <td>4</td>\n",
       "      <td>1</td>\n",
       "      <td>NaN</td>\n",
       "      <td>NONE</td>\n",
       "      <td>NOT EJECTED</td>\n",
       "      <td>2021</td>\n",
       "      <td>BIKE</td>\n",
       "      <td>FRONT</td>\n",
       "      <td>INJURED</td>\n",
       "    </tr>\n",
       "    <tr>\n",
       "      <th>10</th>\n",
       "      <td>1</td>\n",
       "      <td>PASSENGER</td>\n",
       "      <td>M</td>\n",
       "      <td>10.0</td>\n",
       "      <td>3</td>\n",
       "      <td>3</td>\n",
       "      <td>AIRBAG</td>\n",
       "      <td>BELT</td>\n",
       "      <td>NOT EJECTED</td>\n",
       "      <td>2019</td>\n",
       "      <td>CAR</td>\n",
       "      <td>BACK</td>\n",
       "      <td>INJURED</td>\n",
       "    </tr>\n",
       "    <tr>\n",
       "      <th>11</th>\n",
       "      <td>1</td>\n",
       "      <td>DRIVER</td>\n",
       "      <td>F</td>\n",
       "      <td>23.0</td>\n",
       "      <td>4</td>\n",
       "      <td>1</td>\n",
       "      <td>NONE</td>\n",
       "      <td>BELT</td>\n",
       "      <td>EJECTED</td>\n",
       "      <td>2020</td>\n",
       "      <td>CAR</td>\n",
       "      <td>FRONT</td>\n",
       "      <td>INJURED</td>\n",
       "    </tr>\n",
       "    <tr>\n",
       "      <th>12</th>\n",
       "      <td>2</td>\n",
       "      <td>PASSENGER</td>\n",
       "      <td>M</td>\n",
       "      <td>49.0</td>\n",
       "      <td>4</td>\n",
       "      <td>1</td>\n",
       "      <td>NaN</td>\n",
       "      <td>NaN</td>\n",
       "      <td>NOT EJECTED</td>\n",
       "      <td>2020</td>\n",
       "      <td>CAR</td>\n",
       "      <td>FRONT</td>\n",
       "      <td>INJURED</td>\n",
       "    </tr>\n",
       "    <tr>\n",
       "      <th>13</th>\n",
       "      <td>2</td>\n",
       "      <td>PASSENGER</td>\n",
       "      <td>M</td>\n",
       "      <td>62.0</td>\n",
       "      <td>6</td>\n",
       "      <td>NaN</td>\n",
       "      <td>NaN</td>\n",
       "      <td>NaN</td>\n",
       "      <td>NaN</td>\n",
       "      <td>2022</td>\n",
       "      <td>NaN</td>\n",
       "      <td>NaN</td>\n",
       "      <td>INJURED</td>\n",
       "    </tr>\n",
       "    <tr>\n",
       "      <th>14</th>\n",
       "      <td>2</td>\n",
       "      <td>DRIVER</td>\n",
       "      <td>M</td>\n",
       "      <td>52.0</td>\n",
       "      <td>7</td>\n",
       "      <td>1</td>\n",
       "      <td>NONE</td>\n",
       "      <td>BELT</td>\n",
       "      <td>NOT EJECTED</td>\n",
       "      <td>2019</td>\n",
       "      <td>CAR</td>\n",
       "      <td>FRONT</td>\n",
       "      <td>NOT INJURED</td>\n",
       "    </tr>\n",
       "  </tbody>\n",
       "</table>\n",
       "</div>"
      ],
      "text/plain": [
       "    PARTY_NUM       ROLE SEX   AGE INJ_SEV SEAT_POS EQUIP_1 EQUIP_2  \\\n",
       "0           1     DRIVER   F  27.0       3        1    NONE    BELT   \n",
       "1           1     DRIVER   M  59.0       4        1    NONE    BELT   \n",
       "2           2     DRIVER   M  28.0       4        1    NONE    BELT   \n",
       "3           2  PASSENGER   M   3.0       0        6    NONE    BELT   \n",
       "4           2  PASSENGER   M   1.0       0        4    NONE    BELT   \n",
       "5           2     DRIVER   F  50.0       4      NaN     NaN     NaN   \n",
       "6           1     DRIVER   F  20.0       4        1    BELT     NaN   \n",
       "7           2     DRIVER   F  17.0       7        1    NONE  HELMET   \n",
       "8           2  PASSENGER   F  23.0       3      NaN     NaN     NaN   \n",
       "9           2  PASSENGER   F  50.0       4        1     NaN    NONE   \n",
       "10          1  PASSENGER   M  10.0       3        3  AIRBAG    BELT   \n",
       "11          1     DRIVER   F  23.0       4        1    NONE    BELT   \n",
       "12          2  PASSENGER   M  49.0       4        1     NaN     NaN   \n",
       "13          2  PASSENGER   M  62.0       6      NaN     NaN     NaN   \n",
       "14          2     DRIVER   M  52.0       7        1    NONE    BELT   \n",
       "\n",
       "        EJECTED  YEAR VEHICLE_TYPE POSITION        STATE  \n",
       "0   NOT EJECTED  2019          CAR    FRONT      INJURED  \n",
       "1   NOT EJECTED  2019          CAR    FRONT      INJURED  \n",
       "2   NOT EJECTED  2019          CAR    FRONT      INJURED  \n",
       "3   NOT EJECTED  2019          CAR     BACK         DEAD  \n",
       "4   NOT EJECTED  2019          CAR     BACK         DEAD  \n",
       "5           NaN  2019          NaN      NaN      INJURED  \n",
       "6   NOT EJECTED  2021          CAR    FRONT      INJURED  \n",
       "7   NOT EJECTED  2022         BIKE    FRONT  NOT INJURED  \n",
       "8           NaN  2020          NaN      NaN      INJURED  \n",
       "9   NOT EJECTED  2021         BIKE    FRONT      INJURED  \n",
       "10  NOT EJECTED  2019          CAR     BACK      INJURED  \n",
       "11      EJECTED  2020          CAR    FRONT      INJURED  \n",
       "12  NOT EJECTED  2020          CAR    FRONT      INJURED  \n",
       "13          NaN  2022          NaN      NaN      INJURED  \n",
       "14  NOT EJECTED  2019          CAR    FRONT  NOT INJURED  "
      ]
     },
     "execution_count": 38,
     "metadata": {},
     "output_type": "execute_result"
    }
   ],
   "source": [
    "df.head(n=15)"
   ]
  },
  {
   "cell_type": "code",
   "execution_count": 39,
   "metadata": {
    "id": "2yZmDzSbWzu7"
   },
   "outputs": [],
   "source": [
    "# Supprimer certaines variables\n",
    "to_delete = ['INJ_SEV','SEAT_POS','YEAR']\n",
    "df = df.drop(to_delete, axis=1)"
   ]
  },
  {
   "cell_type": "code",
   "execution_count": 40,
   "metadata": {
    "colab": {
     "base_uri": "https://localhost:8080/",
     "height": 363
    },
    "id": "0ZOWncS2Wvgq",
    "outputId": "9574f0b5-fef2-47da-dc68-c7a478a1b048"
   },
   "outputs": [
    {
     "data": {
      "text/html": [
       "<div>\n",
       "<style scoped>\n",
       "    .dataframe tbody tr th:only-of-type {\n",
       "        vertical-align: middle;\n",
       "    }\n",
       "\n",
       "    .dataframe tbody tr th {\n",
       "        vertical-align: top;\n",
       "    }\n",
       "\n",
       "    .dataframe thead th {\n",
       "        text-align: right;\n",
       "    }\n",
       "</style>\n",
       "<table border=\"1\" class=\"dataframe\">\n",
       "  <thead>\n",
       "    <tr style=\"text-align: right;\">\n",
       "      <th></th>\n",
       "      <th>Total</th>\n",
       "      <th>Pourcentage</th>\n",
       "    </tr>\n",
       "  </thead>\n",
       "  <tbody>\n",
       "    <tr>\n",
       "      <th>EQUIP_2</th>\n",
       "      <td>50132</td>\n",
       "      <td>12.150944</td>\n",
       "    </tr>\n",
       "    <tr>\n",
       "      <th>EQUIP_1</th>\n",
       "      <td>36409</td>\n",
       "      <td>8.824777</td>\n",
       "    </tr>\n",
       "    <tr>\n",
       "      <th>EJECTED</th>\n",
       "      <td>33891</td>\n",
       "      <td>8.214467</td>\n",
       "    </tr>\n",
       "    <tr>\n",
       "      <th>POSITION</th>\n",
       "      <td>33264</td>\n",
       "      <td>8.062495</td>\n",
       "    </tr>\n",
       "    <tr>\n",
       "      <th>VEHICLE_TYPE</th>\n",
       "      <td>22192</td>\n",
       "      <td>5.378875</td>\n",
       "    </tr>\n",
       "    <tr>\n",
       "      <th>SEX</th>\n",
       "      <td>10326</td>\n",
       "      <td>2.502806</td>\n",
       "    </tr>\n",
       "    <tr>\n",
       "      <th>AGE</th>\n",
       "      <td>10100</td>\n",
       "      <td>2.448028</td>\n",
       "    </tr>\n",
       "    <tr>\n",
       "      <th>PARTY_NUM</th>\n",
       "      <td>0</td>\n",
       "      <td>0.000000</td>\n",
       "    </tr>\n",
       "    <tr>\n",
       "      <th>ROLE</th>\n",
       "      <td>0</td>\n",
       "      <td>0.000000</td>\n",
       "    </tr>\n",
       "    <tr>\n",
       "      <th>STATE</th>\n",
       "      <td>0</td>\n",
       "      <td>0.000000</td>\n",
       "    </tr>\n",
       "  </tbody>\n",
       "</table>\n",
       "</div>"
      ],
      "text/plain": [
       "              Total  Pourcentage\n",
       "EQUIP_2       50132    12.150944\n",
       "EQUIP_1       36409     8.824777\n",
       "EJECTED       33891     8.214467\n",
       "POSITION      33264     8.062495\n",
       "VEHICLE_TYPE  22192     5.378875\n",
       "SEX           10326     2.502806\n",
       "AGE           10100     2.448028\n",
       "PARTY_NUM         0     0.000000\n",
       "ROLE              0     0.000000\n",
       "STATE             0     0.000000"
      ]
     },
     "execution_count": 40,
     "metadata": {},
     "output_type": "execute_result"
    }
   ],
   "source": [
    "# Afficher la nouvelle proportion de valeurs manquantes\n",
    "total = df.isnull().sum().sort_values(ascending=False)\n",
    "percent = (df.isnull().sum() * 100 / df.isnull().count()).sort_values(\n",
    "    ascending=False\n",
    ")\n",
    "df_missing_data = pd.concat([total, percent], axis=1, keys=[\"Total\", \"Pourcentage\"])\n",
    "df_missing_data.head(n=10)"
   ]
  },
  {
   "cell_type": "markdown",
   "metadata": {
    "id": "TRSPKAw5AXCE"
   },
   "source": [
    "### 2.2. Identification et traitement des valeurs manquantes et aberrantes"
   ]
  },
  {
   "cell_type": "markdown",
   "metadata": {
    "id": "Dcbix_ADoxYs"
   },
   "source": [
    "#### 2.2.1. Identification des valeurs anormales\n",
    "\n",
    "\n"
   ]
  },
  {
   "cell_type": "markdown",
   "metadata": {
    "id": "Zve4dZC3qeRx"
   },
   "source": [
    "##### Identifier les valeurs anormales"
   ]
  },
  {
   "cell_type": "code",
   "execution_count": 41,
   "metadata": {
    "colab": {
     "base_uri": "https://localhost:8080/"
    },
    "id": "d73am-mnh6l0",
    "outputId": "7f9f7694-ca3f-4c0f-f0c4-7d0ac20c3718"
   },
   "outputs": [
    {
     "name": "stdout",
     "output_type": "stream",
     "text": [
      "Unique values in PARTY_NUM:\n",
      "[ 1  2  3  4  5  6  7 11  8  9 10 12 13 16]\n",
      "\n",
      "Unique values in ROLE:\n",
      "['DRIVER' 'PASSENGER']\n",
      "\n",
      "Unique values in SEX:\n",
      "['F' 'M' nan]\n",
      "\n",
      "Unique values in AGE:\n",
      "[27. 59. 28.  3.  1. 50. 20. 17. 23. 10. 49. 62. 52. 47. 34. 54. 37. 77.\n",
      " 51. 46. 56. 21. 63. 75. 45. 42. 30. 29. 61. 57.  4. 66. 48. 25. 35. 36.\n",
      " nan 31. 16.  8. 26. 38. 44. 18. 33.  7. 22.  9.  2. 55. 43. 39. 53. 11.\n",
      " 32. 40. 19.  5. 69. 79. 24. 67. 58. 12. 71. 14. 80. 73. 41. 72. 68. 64.\n",
      " 13. 60. 15. 65.  0. 70. 74.  6. 76. 78.]\n",
      "\n",
      "Unique values in EQUIP_1:\n",
      "['NONE' nan 'BELT' 'AIRBAG' 'HELMET']\n",
      "\n",
      "Unique values in EQUIP_2:\n",
      "['BELT' nan 'HELMET' 'NONE' 'AIRBAG']\n",
      "\n",
      "Unique values in EJECTED:\n",
      "['NOT EJECTED' nan 'EJECTED']\n",
      "\n",
      "Unique values in VEHICLE_TYPE:\n",
      "['CAR' nan 'BIKE' 'BUS']\n",
      "\n",
      "Unique values in POSITION:\n",
      "['FRONT' 'BACK' nan]\n",
      "\n",
      "Unique values in STATE:\n",
      "['INJURED' 'DEAD' 'NOT INJURED']\n",
      "\n"
     ]
    }
   ],
   "source": [
    "# Afficher les valeurs uniques de chaque variable\n",
    "for column in df.columns:\n",
    "    unique_values = df[column].unique()\n",
    "    print(f\"Unique values in {column}:\")\n",
    "    print(unique_values)\n",
    "    print()"
   ]
  },
  {
   "cell_type": "markdown",
   "metadata": {
    "id": "5LEbvT5CMDsA"
   },
   "source": [
    "#### 2.2.2. Remplacement des valeurs manquantes par imputation"
   ]
  },
  {
   "cell_type": "code",
   "execution_count": 42,
   "metadata": {
    "colab": {
     "base_uri": "https://localhost:8080/"
    },
    "id": "pHd6dmWOapLD",
    "outputId": "c159b07e-ce96-48a9-b130-cf664c6dd487"
   },
   "outputs": [
    {
     "name": "stdout",
     "output_type": "stream",
     "text": [
      "Index(['PARTY_NUM', 'AGE'], dtype='object')\n",
      "\n",
      "\n",
      "Index(['ROLE', 'SEX', 'EQUIP_1', 'EQUIP_2', 'EJECTED', 'VEHICLE_TYPE',\n",
      "       'POSITION', 'STATE'],\n",
      "      dtype='object')\n"
     ]
    }
   ],
   "source": [
    "# Identifier les variables quantitatives\n",
    "num_var = df.select_dtypes(include=[np.number]).columns\n",
    "print(num_var)\n",
    "print(\"\\n\")\n",
    "\n",
    "# Identifier les variables qualitatives\n",
    "cat_var = df.select_dtypes(include=[object]).columns\n",
    "print(cat_var)"
   ]
  },
  {
   "cell_type": "code",
   "execution_count": 43,
   "metadata": {
    "colab": {
     "base_uri": "https://localhost:8080/",
     "height": 363
    },
    "id": "ezeBGRlYSJtI",
    "outputId": "2406affa-293c-463b-e11c-5a85e9886917"
   },
   "outputs": [
    {
     "data": {
      "text/html": [
       "<div>\n",
       "<style scoped>\n",
       "    .dataframe tbody tr th:only-of-type {\n",
       "        vertical-align: middle;\n",
       "    }\n",
       "\n",
       "    .dataframe tbody tr th {\n",
       "        vertical-align: top;\n",
       "    }\n",
       "\n",
       "    .dataframe thead th {\n",
       "        text-align: right;\n",
       "    }\n",
       "</style>\n",
       "<table border=\"1\" class=\"dataframe\">\n",
       "  <thead>\n",
       "    <tr style=\"text-align: right;\">\n",
       "      <th></th>\n",
       "      <th>PARTY_NUM</th>\n",
       "      <th>ROLE</th>\n",
       "      <th>SEX</th>\n",
       "      <th>AGE</th>\n",
       "      <th>EQUIP_1</th>\n",
       "      <th>EQUIP_2</th>\n",
       "      <th>EJECTED</th>\n",
       "      <th>VEHICLE_TYPE</th>\n",
       "      <th>POSITION</th>\n",
       "      <th>STATE</th>\n",
       "    </tr>\n",
       "  </thead>\n",
       "  <tbody>\n",
       "    <tr>\n",
       "      <th>0</th>\n",
       "      <td>1.0</td>\n",
       "      <td>DRIVER</td>\n",
       "      <td>F</td>\n",
       "      <td>27.0</td>\n",
       "      <td>NONE</td>\n",
       "      <td>BELT</td>\n",
       "      <td>NOT EJECTED</td>\n",
       "      <td>CAR</td>\n",
       "      <td>FRONT</td>\n",
       "      <td>INJURED</td>\n",
       "    </tr>\n",
       "    <tr>\n",
       "      <th>1</th>\n",
       "      <td>1.0</td>\n",
       "      <td>DRIVER</td>\n",
       "      <td>M</td>\n",
       "      <td>59.0</td>\n",
       "      <td>NONE</td>\n",
       "      <td>BELT</td>\n",
       "      <td>NOT EJECTED</td>\n",
       "      <td>CAR</td>\n",
       "      <td>FRONT</td>\n",
       "      <td>INJURED</td>\n",
       "    </tr>\n",
       "    <tr>\n",
       "      <th>2</th>\n",
       "      <td>2.0</td>\n",
       "      <td>DRIVER</td>\n",
       "      <td>M</td>\n",
       "      <td>28.0</td>\n",
       "      <td>NONE</td>\n",
       "      <td>BELT</td>\n",
       "      <td>NOT EJECTED</td>\n",
       "      <td>CAR</td>\n",
       "      <td>FRONT</td>\n",
       "      <td>INJURED</td>\n",
       "    </tr>\n",
       "    <tr>\n",
       "      <th>3</th>\n",
       "      <td>2.0</td>\n",
       "      <td>PASSENGER</td>\n",
       "      <td>M</td>\n",
       "      <td>3.0</td>\n",
       "      <td>NONE</td>\n",
       "      <td>BELT</td>\n",
       "      <td>NOT EJECTED</td>\n",
       "      <td>CAR</td>\n",
       "      <td>BACK</td>\n",
       "      <td>DEAD</td>\n",
       "    </tr>\n",
       "    <tr>\n",
       "      <th>4</th>\n",
       "      <td>2.0</td>\n",
       "      <td>PASSENGER</td>\n",
       "      <td>M</td>\n",
       "      <td>1.0</td>\n",
       "      <td>NONE</td>\n",
       "      <td>BELT</td>\n",
       "      <td>NOT EJECTED</td>\n",
       "      <td>CAR</td>\n",
       "      <td>BACK</td>\n",
       "      <td>DEAD</td>\n",
       "    </tr>\n",
       "    <tr>\n",
       "      <th>5</th>\n",
       "      <td>2.0</td>\n",
       "      <td>DRIVER</td>\n",
       "      <td>F</td>\n",
       "      <td>50.0</td>\n",
       "      <td>NONE</td>\n",
       "      <td>BELT</td>\n",
       "      <td>NOT EJECTED</td>\n",
       "      <td>CAR</td>\n",
       "      <td>FRONT</td>\n",
       "      <td>INJURED</td>\n",
       "    </tr>\n",
       "    <tr>\n",
       "      <th>6</th>\n",
       "      <td>1.0</td>\n",
       "      <td>DRIVER</td>\n",
       "      <td>F</td>\n",
       "      <td>20.0</td>\n",
       "      <td>BELT</td>\n",
       "      <td>BELT</td>\n",
       "      <td>NOT EJECTED</td>\n",
       "      <td>CAR</td>\n",
       "      <td>FRONT</td>\n",
       "      <td>INJURED</td>\n",
       "    </tr>\n",
       "    <tr>\n",
       "      <th>7</th>\n",
       "      <td>2.0</td>\n",
       "      <td>DRIVER</td>\n",
       "      <td>F</td>\n",
       "      <td>17.0</td>\n",
       "      <td>NONE</td>\n",
       "      <td>HELMET</td>\n",
       "      <td>NOT EJECTED</td>\n",
       "      <td>BIKE</td>\n",
       "      <td>FRONT</td>\n",
       "      <td>NOT INJURED</td>\n",
       "    </tr>\n",
       "    <tr>\n",
       "      <th>8</th>\n",
       "      <td>2.0</td>\n",
       "      <td>PASSENGER</td>\n",
       "      <td>F</td>\n",
       "      <td>23.0</td>\n",
       "      <td>NONE</td>\n",
       "      <td>BELT</td>\n",
       "      <td>NOT EJECTED</td>\n",
       "      <td>CAR</td>\n",
       "      <td>FRONT</td>\n",
       "      <td>INJURED</td>\n",
       "    </tr>\n",
       "    <tr>\n",
       "      <th>9</th>\n",
       "      <td>2.0</td>\n",
       "      <td>PASSENGER</td>\n",
       "      <td>F</td>\n",
       "      <td>50.0</td>\n",
       "      <td>NONE</td>\n",
       "      <td>NONE</td>\n",
       "      <td>NOT EJECTED</td>\n",
       "      <td>BIKE</td>\n",
       "      <td>FRONT</td>\n",
       "      <td>INJURED</td>\n",
       "    </tr>\n",
       "  </tbody>\n",
       "</table>\n",
       "</div>"
      ],
      "text/plain": [
       "   PARTY_NUM       ROLE SEX   AGE EQUIP_1 EQUIP_2      EJECTED VEHICLE_TYPE  \\\n",
       "0        1.0     DRIVER   F  27.0    NONE    BELT  NOT EJECTED          CAR   \n",
       "1        1.0     DRIVER   M  59.0    NONE    BELT  NOT EJECTED          CAR   \n",
       "2        2.0     DRIVER   M  28.0    NONE    BELT  NOT EJECTED          CAR   \n",
       "3        2.0  PASSENGER   M   3.0    NONE    BELT  NOT EJECTED          CAR   \n",
       "4        2.0  PASSENGER   M   1.0    NONE    BELT  NOT EJECTED          CAR   \n",
       "5        2.0     DRIVER   F  50.0    NONE    BELT  NOT EJECTED          CAR   \n",
       "6        1.0     DRIVER   F  20.0    BELT    BELT  NOT EJECTED          CAR   \n",
       "7        2.0     DRIVER   F  17.0    NONE  HELMET  NOT EJECTED         BIKE   \n",
       "8        2.0  PASSENGER   F  23.0    NONE    BELT  NOT EJECTED          CAR   \n",
       "9        2.0  PASSENGER   F  50.0    NONE    NONE  NOT EJECTED         BIKE   \n",
       "\n",
       "  POSITION        STATE  \n",
       "0    FRONT      INJURED  \n",
       "1    FRONT      INJURED  \n",
       "2    FRONT      INJURED  \n",
       "3     BACK         DEAD  \n",
       "4     BACK         DEAD  \n",
       "5    FRONT      INJURED  \n",
       "6    FRONT      INJURED  \n",
       "7    FRONT  NOT INJURED  \n",
       "8    FRONT      INJURED  \n",
       "9    FRONT      INJURED  "
      ]
     },
     "execution_count": 43,
     "metadata": {},
     "output_type": "execute_result"
    }
   ],
   "source": [
    "# Imputer les variables quanti avec la médianne\n",
    "num_imputer = SimpleImputer(strategy='median')\n",
    "df[num_var] = num_imputer.fit_transform(df[num_var])\n",
    "\n",
    "# Imputer les variables quali avec le mode\n",
    "cat_imputer = SimpleImputer(strategy='most_frequent')\n",
    "df[cat_var] = cat_imputer.fit_transform(df[cat_var])\n",
    "\n",
    "# Afficher les 10 premières observations\n",
    "df.head(n=10)"
   ]
  },
  {
   "cell_type": "code",
   "execution_count": 44,
   "metadata": {
    "colab": {
     "base_uri": "https://localhost:8080/",
     "height": 238
    },
    "id": "Mxeb_cdUzHXS",
    "outputId": "3044735f-d4ca-4489-8d0a-ae81d225f72b"
   },
   "outputs": [
    {
     "data": {
      "text/html": [
       "<div>\n",
       "<style scoped>\n",
       "    .dataframe tbody tr th:only-of-type {\n",
       "        vertical-align: middle;\n",
       "    }\n",
       "\n",
       "    .dataframe tbody tr th {\n",
       "        vertical-align: top;\n",
       "    }\n",
       "\n",
       "    .dataframe thead th {\n",
       "        text-align: right;\n",
       "    }\n",
       "</style>\n",
       "<table border=\"1\" class=\"dataframe\">\n",
       "  <thead>\n",
       "    <tr style=\"text-align: right;\">\n",
       "      <th></th>\n",
       "      <th>Total</th>\n",
       "      <th>Pourcentage</th>\n",
       "    </tr>\n",
       "  </thead>\n",
       "  <tbody>\n",
       "    <tr>\n",
       "      <th>PARTY_NUM</th>\n",
       "      <td>0</td>\n",
       "      <td>0.0</td>\n",
       "    </tr>\n",
       "    <tr>\n",
       "      <th>ROLE</th>\n",
       "      <td>0</td>\n",
       "      <td>0.0</td>\n",
       "    </tr>\n",
       "    <tr>\n",
       "      <th>SEX</th>\n",
       "      <td>0</td>\n",
       "      <td>0.0</td>\n",
       "    </tr>\n",
       "    <tr>\n",
       "      <th>AGE</th>\n",
       "      <td>0</td>\n",
       "      <td>0.0</td>\n",
       "    </tr>\n",
       "    <tr>\n",
       "      <th>EQUIP_1</th>\n",
       "      <td>0</td>\n",
       "      <td>0.0</td>\n",
       "    </tr>\n",
       "    <tr>\n",
       "      <th>EQUIP_2</th>\n",
       "      <td>0</td>\n",
       "      <td>0.0</td>\n",
       "    </tr>\n",
       "  </tbody>\n",
       "</table>\n",
       "</div>"
      ],
      "text/plain": [
       "           Total  Pourcentage\n",
       "PARTY_NUM      0          0.0\n",
       "ROLE           0          0.0\n",
       "SEX            0          0.0\n",
       "AGE            0          0.0\n",
       "EQUIP_1        0          0.0\n",
       "EQUIP_2        0          0.0"
      ]
     },
     "execution_count": 44,
     "metadata": {},
     "output_type": "execute_result"
    }
   ],
   "source": [
    "# Vérifier s'il y a des valeurs manquantes\n",
    "total = df.isnull().sum().sort_values(ascending=False)\n",
    "percent = (df.isnull().sum() * 100 / df.isnull().count()).sort_values(\n",
    "    ascending=False\n",
    ")\n",
    "\n",
    "df_missing_data = pd.concat([total, percent], axis=1, keys=[\"Total\", \"Pourcentage\"])\n",
    "df_missing_data.head(n=6)"
   ]
  },
  {
   "cell_type": "code",
   "execution_count": 45,
   "metadata": {
    "colab": {
     "base_uri": "https://localhost:8080/"
    },
    "id": "U33ljeBohIBT",
    "outputId": "8cb8e737-70ea-4c43-9890-d25ea865e434"
   },
   "outputs": [
    {
     "name": "stdout",
     "output_type": "stream",
     "text": [
      "PARTY_NUM       14\n",
      "ROLE             2\n",
      "SEX              2\n",
      "AGE             81\n",
      "EQUIP_1          4\n",
      "EQUIP_2          4\n",
      "EJECTED          2\n",
      "VEHICLE_TYPE     3\n",
      "POSITION         2\n",
      "STATE            3\n",
      "dtype: int64\n"
     ]
    }
   ],
   "source": [
    "# Afficher le nombre de valeurs uniques\n",
    "unique_counts = df.nunique()\n",
    "print(unique_counts)"
   ]
  },
  {
   "cell_type": "markdown",
   "metadata": {
    "id": "uQu-637oPMv0"
   },
   "source": [
    "### 2.3. Division du dataset et feature scaling"
   ]
  },
  {
   "cell_type": "code",
   "execution_count": 46,
   "metadata": {
    "id": "yPxR7NyuA7wr"
   },
   "outputs": [],
   "source": [
    "df.to_csv('Dataset 2 modif.csv', index=False)"
   ]
  },
  {
   "cell_type": "code",
   "execution_count": 47,
   "metadata": {
    "id": "cHfF0Rsya4AS"
   },
   "outputs": [],
   "source": [
    "df = df.sample(n=50000)"
   ]
  },
  {
   "cell_type": "code",
   "execution_count": 48,
   "metadata": {
    "id": "EWzcV-hEcAzY"
   },
   "outputs": [],
   "source": [
    "num_var = ['PARTY_NUM','AGE']\n",
    "cat_var = ['ROLE','EQUIP_1','EQUIP_2','EJECTED','VEHICLE_TYPE','POSITION']"
   ]
  },
  {
   "cell_type": "code",
   "execution_count": 49,
   "metadata": {
    "colab": {
     "base_uri": "https://localhost:8080/"
    },
    "id": "1bFhQNgpPTIi",
    "outputId": "0f96c1d9-9fb5-4ab3-8d7a-a3398945fc5a"
   },
   "outputs": [
    {
     "name": "stdout",
     "output_type": "stream",
     "text": [
      "Training dataset size: 40000\n",
      "Test dataset size: 10000\n"
     ]
    }
   ],
   "source": [
    "# Définition des variables à choisir\n",
    "X = df.drop('STATE', axis=1)\n",
    "y = df['STATE']\n",
    "\n",
    "# Division en proportion 80/20\n",
    "X_train, X_test, y_train, y_test = train_test_split(X, y, test_size=0.2)\n",
    "\n",
    "# Display the size of the training dataset\n",
    "train_size = X_train.shape[0]\n",
    "print(\"Training dataset size:\", train_size)\n",
    "\n",
    "# Display the size of the test dataset\n",
    "test_size = X_test.shape[0]\n",
    "print(\"Test dataset size:\", test_size)"
   ]
  },
  {
   "cell_type": "code",
   "execution_count": 50,
   "metadata": {
    "id": "BHFrwXYZCZW_"
   },
   "outputs": [],
   "source": [
    "# Feature scaling et OneHotEncoding\n",
    "cat_preprocessor = OneHotEncoder()\n",
    "num_preprocessor = StandardScaler()\n",
    "\n",
    "# ColumnTransformer pour appliquer le prétraitement\n",
    "preprocessor = ColumnTransformer(\n",
    "    transformers=[\n",
    "        ('cat', cat_preprocessor, cat_var),\n",
    "        ('num', num_preprocessor, num_var)\n",
    "    ])\n",
    "\n",
    "# Créer le pipeline\n",
    "pipeline = Pipeline(steps=[\n",
    "    ('preprocessor', preprocessor)\n",
    "])\n",
    "\n",
    "# Prétraiter les données\n",
    "X_train = pipeline.fit_transform(X_train)\n",
    "X_test = pipeline.transform(X_test)"
   ]
  },
  {
   "cell_type": "code",
   "execution_count": 51,
   "metadata": {
    "id": "seEb72e-FtGx"
   },
   "outputs": [],
   "source": [
    "# # Créer un objet LabelEncoder\n",
    "# label_encoder = LabelEncoder()\n",
    "\n",
    "# # Ajuster et transformer la variable cible des données d'entraînement\n",
    "# y_train = label_encoder.fit_transform(y_train)\n",
    "\n",
    "# # Ajuster et transformer la variable cible des données de test\n",
    "# y_test = label_encoder.transform(y_test)"
   ]
  },
  {
   "cell_type": "code",
   "execution_count": 52,
   "metadata": {
    "id": "hyz6lNSMAgUf"
   },
   "outputs": [],
   "source": [
    "df.to_csv('Dataset 2 modif.csv', index=False)"
   ]
  },
  {
   "cell_type": "markdown",
   "metadata": {
    "id": "l6rNCv3HT26m"
   },
   "source": [
    "## Section 3: Modélisation et résultats"
   ]
  },
  {
   "cell_type": "markdown",
   "metadata": {
    "id": "g3IEb2s26m54"
   },
   "source": [
    "### Visu"
   ]
  },
  {
   "cell_type": "code",
   "execution_count": 53,
   "metadata": {
    "colab": {
     "base_uri": "https://localhost:8080/"
    },
    "id": "U9YyYmeU6sxc",
    "outputId": "2db4165e-3ba2-4cd9-c0c8-90f66cf63149"
   },
   "outputs": [
    {
     "data": {
      "image/png": "[encoded data removed]",
      "text/plain": [
       "<Figure size 800x600 with 2 Axes>"
      ]
     },
     "metadata": {
      "image/png": {
       "height": 529,
       "width": 695
      }
     },
     "output_type": "display_data"
    }
   ],
   "source": [
    "df.hist(bins=50)\n",
    "plt.show()"
   ]
  },
  {
   "cell_type": "markdown",
   "metadata": {
    "id": "8maiEk3EUEcA"
   },
   "source": [
    "## 3.1. Création des modèles"
   ]
  },
  {
   "cell_type": "markdown",
   "metadata": {
    "id": "DFloDVdi_zh3"
   },
   "source": [
    "#### 3.1.1 k-nn (k plus proches voisins)"
   ]
  },
  {
   "cell_type": "code",
   "execution_count": null,
   "metadata": {
    "id": "tO6_OvPGpGhG"
   },
   "outputs": [],
   "source": [
    "# Validation croisée de k\n",
    "k_values = range(10, 100, 10)\n",
    "mean_accuracy = []\n",
    "\n",
    "for k in k_values:\n",
    "    knn_model = KNeighborsClassifier(n_neighbors=k)\n",
    "    scores = cross_val_score(knn_model, X_train, y_train, cv=5)\n",
    "    mean_accuracy.append(scores.mean())"
   ]
  },
  {
   "cell_type": "code",
   "execution_count": null,
   "metadata": {
    "colab": {
     "base_uri": "https://localhost:8080/"
    },
    "id": "2gaJa8-6w5FM",
    "outputId": "05ace7de-cbe4-4bf4-8b69-b6c5093f9610"
   },
   "outputs": [],
   "source": [
    "# Trouver le meilleur k en fonction de la précision moyenne\n",
    "best_k = k_values[np.argmax(mean_accuracy)]\n",
    "best_knn_accuracy = max(mean_accuracy) * 100\n",
    "\n",
    "print(f\"Meilleur k = {best_k} d'acuité {best_knn_accuracy:.02f}%\")"
   ]
  },
  {
   "cell_type": "code",
   "execution_count": null,
   "metadata": {
    "colab": {
     "base_uri": "https://localhost:8080/",
     "height": 548
    },
    "id": "mm7iTsvqrtvf",
    "outputId": "40fd4968-c10e-40c3-9d75-bd616cc26816"
   },
   "outputs": [],
   "source": [
    "# Plot la précision pour différentes valeurs de k\n",
    "plt.plot(k_values, mean_accuracy, marker='o')\n",
    "plt.xlabel('Valeurs de k')\n",
    "plt.ylabel('Acuité')\n",
    "plt.show()"
   ]
  },
  {
   "cell_type": "code",
   "execution_count": null,
   "metadata": {
    "colab": {
     "base_uri": "https://localhost:8080/",
     "height": 75
    },
    "id": "Ocj5wgcerz-t",
    "outputId": "8db56a7d-fde1-4826-cec7-95bd3e9c3922"
   },
   "outputs": [],
   "source": [
    "# Entraîner le modèle avec le meilleur k\n",
    "knn_model = KNeighborsClassifier(n_neighbors=best_k)\n",
    "knn_model.fit(X_train, y_train)"
   ]
  },
  {
   "cell_type": "code",
   "execution_count": null,
   "metadata": {
    "id": "phB6AZ-Zr1dF"
   },
   "outputs": [],
   "source": [
    "# Prédictions sur données de test\n",
    "knn_y_pred = knn_model.predict(X_test)"
   ]
  },
  {
   "cell_type": "code",
   "execution_count": null,
   "metadata": {
    "colab": {
     "base_uri": "https://localhost:8080/"
    },
    "id": "mIRR6PJ-0VyU",
    "outputId": "93c9c4a5-c75b-4d30-d207-37253c9b8f12"
   },
   "outputs": [],
   "source": [
    "knn_pred_accuracy = accuracy_score(y_test, knn_y_pred) * 100\n",
    "print(f\"Acuité: {knn_pred_accuracy:.02f}%\")"
   ]
  },
  {
   "cell_type": "code",
   "execution_count": null,
   "metadata": {
    "colab": {
     "base_uri": "https://localhost:8080/"
    },
    "id": "0NIZL7U6bfHf",
    "outputId": "541b502d-9783-4be4-97dc-b54a93991bef"
   },
   "outputs": [],
   "source": [
    "# Classification report\n",
    "knn_report = classification_report(y_test, knn_y_pred)\n",
    "print(knn_report)"
   ]
  },
  {
   "cell_type": "code",
   "execution_count": null,
   "metadata": {
    "colab": {
     "base_uri": "https://localhost:8080/",
     "height": 570
    },
    "id": "xE0a3K0Or3jM",
    "outputId": "c523eeae-03e5-4cf8-d272-a896db78c7b9"
   },
   "outputs": [],
   "source": [
    "# Matrice de confusion\n",
    "cm = confusion_matrix(y_test, knn_y_pred)\n",
    "plt.figure(figsize=(8, 6))\n",
    "sns.heatmap(cm, annot=True, fmt='d', cmap='Blues')\n",
    "plt.title('Matrice de confusion: k-nn')\n",
    "plt.xlabel('Etat prédit')\n",
    "plt.ylabel('Etat réel')\n",
    "plt.show()"
   ]
  },
  {
   "cell_type": "markdown",
   "metadata": {
    "id": "NSo7vz5F1zKp"
   },
   "source": [
    "#### 3.1.2. Gradient Boosting"
   ]
  },
  {
   "cell_type": "code",
   "execution_count": null,
   "metadata": {
    "id": "CqJaOpvB-9Jw"
   },
   "outputs": [],
   "source": [
    "gb_estimators = range(10, 500, 50)\n",
    "gb_scores =  []\n",
    "\n",
    "for n_estimators in gb_estimators:\n",
    "    # Create the Gradient Boosting Classifier\n",
    "    gb_clf = GradientBoostingClassifier(n_estimators=n_estimators, random_state=42)\n",
    "\n",
    "    # Perform cross-validation\n",
    "    gb_cv_scores = cross_val_score(gb_clf, X_train, y_train, cv=5)\n",
    "\n",
    "    # Calculate and store the mean accuracy across folds\n",
    "    gb_mean_accuracy = gb_cv_scores.mean() * 100\n",
    "    gb_scores.append(gb_mean_accuracy)"
   ]
  },
  {
   "cell_type": "code",
   "execution_count": null,
   "metadata": {
    "id": "ZrEEx2vvNHjw"
   },
   "outputs": [],
   "source": [
    "# Find the index of the best score\n",
    "best_index = np.argmax(gb_scores)\n",
    "\n",
    "# Get the best estimator value\n",
    "best_gb_estimator = gb_estimators[best_index]\n",
    "\n",
    "print(f\"Best Estimator: {best_gb_estimator} d'acuité {gb_mean_accuracy:.2f}%\")"
   ]
  },
  {
   "cell_type": "code",
   "execution_count": null,
   "metadata": {
    "id": "oJKOjgdzBUqv"
   },
   "outputs": [],
   "source": [
    "# Visualiser l'évolution de la précision selon n\n",
    "plt.plot(gb_estimators, gb_scores, marker='o')\n",
    "plt.xlabel(\"Nombre d'estimateurs n\")\n",
    "plt.ylabel(\"Acuité\")\n",
    "plt.show()"
   ]
  },
  {
   "cell_type": "code",
   "execution_count": null,
   "metadata": {
    "id": "XY_hnbmq2PI4"
   },
   "outputs": [],
   "source": [
    "# Fit the classifier on the training data\n",
    "gb_clf.fit(X_train, y_train)"
   ]
  },
  {
   "cell_type": "code",
   "execution_count": null,
   "metadata": {
    "id": "vGCIISPxalph"
   },
   "outputs": [],
   "source": [
    "# Predict the target variable on the training data\n",
    "gb_y_pred_train = gb_clf.predict(X_train)"
   ]
  },
  {
   "cell_type": "code",
   "execution_count": null,
   "metadata": {
    "id": "6Nyg_g5UcWXa"
   },
   "outputs": [],
   "source": [
    "# Calculate the accuracy score\n",
    "gb_train_accuracy = accuracy_score(y_train, gb_y_pred_train) * 100\n",
    "print(f\"Acuité: {gb_train_accuracy:.2f}%\")"
   ]
  },
  {
   "cell_type": "code",
   "execution_count": null,
   "metadata": {
    "id": "aQD4TwmF2SqG"
   },
   "outputs": [],
   "source": [
    "# Predict the target variable on the test data\n",
    "gb_y_pred = gb_clf.predict(X_test)"
   ]
  },
  {
   "cell_type": "code",
   "execution_count": null,
   "metadata": {
    "id": "4lZEjcN32T9Q"
   },
   "outputs": [],
   "source": [
    "# Compute the accuracy\n",
    "gb_accuracy = accuracy_score(y_test, gb_y_pred) * 100\n",
    "print(f\"Acuité: {gb_accuracy:.02f}%\")"
   ]
  },
  {
   "cell_type": "code",
   "execution_count": null,
   "metadata": {
    "id": "jdz8BClgeiF_"
   },
   "outputs": [],
   "source": [
    "# Classification report\n",
    "gb_report = classification_report(y_test, gb_y_pred)\n",
    "print(gb_report)"
   ]
  },
  {
   "cell_type": "code",
   "execution_count": null,
   "metadata": {
    "id": "hZa2qvA22gMr"
   },
   "outputs": [],
   "source": [
    "# Compute the confusion matrix\n",
    "gb_cm = confusion_matrix(y_test, gb_y_pred)\n",
    "\n",
    "# Display the confusion matrix\n",
    "plt.figure(figsize=(8, 6))\n",
    "sns.heatmap(gb_cm, annot=True, fmt='d', cmap='Blues')\n",
    "plt.title('Matrice de confusion: Gradient Boosting')\n",
    "plt.xlabel('Etat prédit')\n",
    "plt.ylabel('Etat réel')\n",
    "plt.show()"
   ]
  },
  {
   "cell_type": "markdown",
   "metadata": {
    "id": "7DNg9HRQKVvR"
   },
   "source": [
    "#### 3.1.3. Random Forest Classifier"
   ]
  },
  {
   "cell_type": "code",
   "execution_count": null,
   "metadata": {
    "id": "TReM6qOCKl9Y"
   },
   "outputs": [],
   "source": [
    "# Validation croisée des estimateurs n\n",
    "estimators = range(50, 400, 50)\n",
    "rf_accuracy = []\n",
    "\n",
    "precision_scores = []\n",
    "\n",
    "# Itération sur différentes valeurs de n\n",
    "for n_estimators in estimators:\n",
    "    # Créer le modèle\n",
    "    rfc = RandomForestClassifier(n_estimators=n_estimators, random_state=42)\n",
    "\n",
    "    # Validation croisée\n",
    "    scoring = make_scorer(precision_score, average='micro')\n",
    "    rfc_scores = cross_val_score(rfc, X_train, y_train, cv=5, scoring=scoring)\n",
    "\n",
    "    # Précision moyenne de la validation croisée\n",
    "    mean_precision = np.mean(rfc_scores)\n",
    "    precision_scores.append(mean_precision)"
   ]
  },
  {
   "cell_type": "code",
   "execution_count": null,
   "metadata": {
    "colab": {
     "base_uri": "https://localhost:8080/",
     "height": 548
    },
    "id": "fo6zkt24MW8g",
    "outputId": "cabd2287-4962-4064-d649-8b0c6c695874"
   },
   "outputs": [],
   "source": [
    "# Visualiser l'évolution de la précision selon n\n",
    "plt.plot(estimators, precision_scores, marker='o')\n",
    "plt.xlabel(\"Nombre d'estimateurs n\")\n",
    "plt.ylabel(\"Precision\")\n",
    "plt.show()"
   ]
  },
  {
   "cell_type": "code",
   "execution_count": null,
   "metadata": {
    "colab": {
     "base_uri": "https://localhost:8080/"
    },
    "id": "qU9KZGlCMW0b",
    "outputId": "377389cb-7d49-440a-b384-8fecbbe0c6cf"
   },
   "outputs": [],
   "source": [
    "# Choisir le meilleur estimateur en fonction de la précision\n",
    "best_n = estimators[np.argmax(precision_scores)]\n",
    "best_rfc_prec = max(precision_scores) * 100\n",
    "\n",
    "print(f\"Meilleur n = {best_n} de précision {best_rfc_prec:.2f}%\")"
   ]
  },
  {
   "cell_type": "code",
   "execution_count": null,
   "metadata": {
    "colab": {
     "base_uri": "https://localhost:8080/",
     "height": 75
    },
    "id": "ZWcYOfn_MWxp",
    "outputId": "e957d825-597e-4f6b-8b9e-8c626ac620f7"
   },
   "outputs": [],
   "source": [
    "# Ajuster le modèle aux données d'entraînement\n",
    "best_rfc = RandomForestClassifier(n_estimators=best_n)\n",
    "best_rfc.fit(X_train, y_train)"
   ]
  },
  {
   "cell_type": "code",
   "execution_count": null,
   "metadata": {
    "id": "sTem7eQbMp7Y"
   },
   "outputs": [],
   "source": [
    "# Faire des prédictions sur les données de test\n",
    "rfc_y_pred = best_rfc.predict(X_test)"
   ]
  },
  {
   "cell_type": "code",
   "execution_count": null,
   "metadata": {
    "colab": {
     "base_uri": "https://localhost:8080/"
    },
    "id": "qunJznGZ9W2_",
    "outputId": "6e00ed6c-351a-488a-f345-325edf54da24"
   },
   "outputs": [],
   "source": [
    "# Calculer la précision\n",
    "rfc_accuracy = accuracy_score(y_test, rfc_y_pred) * 100\n",
    "print(f\"Précision: {rfc_accuracy:.02f}%\")"
   ]
  },
  {
   "cell_type": "code",
   "execution_count": null,
   "metadata": {
    "colab": {
     "base_uri": "https://localhost:8080/"
    },
    "id": "_9cHRgBX9jSv",
    "outputId": "20cf6f04-6d39-4306-b093-f7c9de9b8d1a"
   },
   "outputs": [],
   "source": [
    "# Classification report\n",
    "rfc_report = classification_report(y_test, rfc_y_pred)\n",
    "print(rfc_report)"
   ]
  },
  {
   "cell_type": "code",
   "execution_count": null,
   "metadata": {
    "colab": {
     "base_uri": "https://localhost:8080/",
     "height": 570
    },
    "id": "7jBPWna1MrTn",
    "outputId": "48058b9c-33a2-4e48-c460-0d73a27e0c07"
   },
   "outputs": [],
   "source": [
    "# Afficher la matrice de confusion\n",
    "rfc_cm = confusion_matrix(y_test, rfc_y_pred)\n",
    "\n",
    "plt.figure(figsize=(8, 6))\n",
    "sns.heatmap(rfc_cm, annot=True, fmt='d', cmap='Blues')\n",
    "plt.title('Matrice de confusion: Random Forest')\n",
    "plt.xlabel('Etat prédit')\n",
    "plt.ylabel('Etat réel')\n",
    "plt.show()"
   ]
  },
  {
   "cell_type": "code",
   "execution_count": null,
   "metadata": {},
   "outputs": [],
   "source": []
  }
 ],
 "metadata": {
  "colab": {
   "collapsed_sections": [
    "R6897ypCG7iy"
   ],
   "provenance": []
  },
  "kernelspec": {
   "display_name": "Python 3",
   "language": "python",
   "name": "python3"
  },
  "language_info": {
   "codemirror_mode": {
    "name": "ipython",
    "version": 3
   },
   "file_extension": ".py",
   "mimetype": "text/x-python",
   "name": "python",
   "nbconvert_exporter": "python",
   "pygments_lexer": "ipython3",
   "version": "3.13.2"
  }
 },
 "nbformat": 4,
 "nbformat_minor": 1
}
