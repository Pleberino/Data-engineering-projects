{
 "cells": [
  {
   "cell_type": "code",
   "execution_count": 1,
   "metadata": {},
   "outputs": [
    {
     "name": "stdout",
     "output_type": "stream",
     "text": [
      "\n",
      "SELECT \n",
      "c.id ,\n",
      "c.activity_name ,\n",
      "SUM(ds.spend) AS total_spend\n",
      "FROM clients c \n",
      "JOIN daily_stats ds ON ds.client_id = c.id \n",
      "GROUP BY c.id \n",
      "ORDER BY total_spend DESC LIMIT 5\n",
      "\n",
      "\n",
      "SELECT \n",
      "STRFTIME('%Y-%m', ds.date) as month_,\n",
      "SUM(ds.contacts) AS total_contacts\n",
      "FROM daily_stats ds \n",
      "GROUP BY month_\n",
      "\n",
      "\n",
      "SELECT \n",
      "ds.client_id, \n",
      "STRFTIME('%Y-%m', ds.date) AS month_,\n",
      "SUM(ds.spend) AS total_spend,\n",
      "SUM(ds.contacts) AS total_contacts\n",
      "FROM daily_stats ds \n",
      "GROUP BY ds.client_id , month_\n",
      "\n"
     ]
    }
   ],
   "source": [
    "import pandas as pd \n",
    "import sqlite3\n",
    "import matplotlib.pyplot as plt\n",
    "\n",
    "\n",
    "\n",
    "conn = sqlite3.connect(r\"A:\\Data Engineering\\effilab_data_test.db\")\n",
    "\n",
    "query1 = \"\"\"\n",
    "SELECT \n",
    "c.id ,\n",
    "c.activity_name ,\n",
    "SUM(ds.spend) AS total_spend\n",
    "FROM clients c \n",
    "JOIN daily_stats ds ON ds.client_id = c.id \n",
    "GROUP BY c.id \n",
    "ORDER BY total_spend DESC LIMIT 5\n",
    "\"\"\"\n",
    "query2 = \"\"\"\n",
    "SELECT \n",
    "STRFTIME('%Y-%m', ds.date) as month_,\n",
    "SUM(ds.contacts) AS total_contacts\n",
    "FROM daily_stats ds \n",
    "GROUP BY month_\n",
    "\"\"\"\n",
    "query3 = \"\"\"\n",
    "SELECT \n",
    "ds.client_id, \n",
    "STRFTIME('%Y-%m', ds.date) AS month_,\n",
    "SUM(ds.spend) AS total_spend,\n",
    "SUM(ds.contacts) AS total_contacts\n",
    "FROM daily_stats ds \n",
    "GROUP BY ds.client_id , month_\n",
    "\"\"\"\n",
    "def run_query(query, conn): \n",
    "    print(query)\n",
    "    query_ouput = pd.read_sql(query, conn)\n",
    "    return query_ouput\n",
    "\n",
    "df1 = run_query(query1, conn)\n",
    "df2 = run_query(query2, conn)\n",
    "df3 = run_query(query3, conn)\n",
    "\n",
    "conn.close()"
   ]
  },
  {
   "cell_type": "code",
   "execution_count": 2,
   "metadata": {},
   "outputs": [
    {
     "data": {
      "text/plain": [
       "[(18072, 'demenagement', 3469.7599999999998),\n",
       " (18073, 'demenagement', 3442.915),\n",
       " (100734, 'demenagement', 3356.815),\n",
       " (73077, 'demenagement', 3206.035),\n",
       " (100733, 'demenagement', 2640.435)]"
      ]
     },
     "execution_count": 2,
     "metadata": {},
     "output_type": "execute_result"
    }
   ],
   "source": [
    "df1_list = list(zip(df1['id'], df1['activity_name'], df1['total_spend']))\n",
    "df1_list"
   ]
  },
  {
   "cell_type": "code",
   "execution_count": 3,
   "metadata": {},
   "outputs": [
    {
     "data": {
      "text/plain": [
       "{'2023-01': 7841, '2023-02': 7364, '2023-03': 7756}"
      ]
     },
     "execution_count": 3,
     "metadata": {},
     "output_type": "execute_result"
    }
   ],
   "source": [
    "df2_dict = dict(zip(df2['month_'], df2['total_contacts']))\n",
    "df2_dict"
   ]
  },
  {
   "cell_type": "code",
   "execution_count": 4,
   "metadata": {},
   "outputs": [
    {
     "data": {
      "text/html": [
       "<div>\n",
       "<style scoped>\n",
       "    .dataframe tbody tr th:only-of-type {\n",
       "        vertical-align: middle;\n",
       "    }\n",
       "\n",
       "    .dataframe tbody tr th {\n",
       "        vertical-align: top;\n",
       "    }\n",
       "\n",
       "    .dataframe thead th {\n",
       "        text-align: right;\n",
       "    }\n",
       "</style>\n",
       "<table border=\"1\" class=\"dataframe\">\n",
       "  <thead>\n",
       "    <tr style=\"text-align: right;\">\n",
       "      <th></th>\n",
       "      <th>client_id</th>\n",
       "      <th>month_</th>\n",
       "      <th>total_spend</th>\n",
       "      <th>total_contacts</th>\n",
       "    </tr>\n",
       "  </thead>\n",
       "  <tbody>\n",
       "    <tr>\n",
       "      <th>0</th>\n",
       "      <td>16261</td>\n",
       "      <td>2023-01</td>\n",
       "      <td>73.045</td>\n",
       "      <td>13</td>\n",
       "    </tr>\n",
       "    <tr>\n",
       "      <th>1</th>\n",
       "      <td>16261</td>\n",
       "      <td>2023-02</td>\n",
       "      <td>46.165</td>\n",
       "      <td>19</td>\n",
       "    </tr>\n",
       "    <tr>\n",
       "      <th>2</th>\n",
       "      <td>16261</td>\n",
       "      <td>2023-03</td>\n",
       "      <td>74.410</td>\n",
       "      <td>13</td>\n",
       "    </tr>\n",
       "    <tr>\n",
       "      <th>3</th>\n",
       "      <td>16511</td>\n",
       "      <td>2023-01</td>\n",
       "      <td>55.230</td>\n",
       "      <td>16</td>\n",
       "    </tr>\n",
       "    <tr>\n",
       "      <th>4</th>\n",
       "      <td>16511</td>\n",
       "      <td>2023-02</td>\n",
       "      <td>76.160</td>\n",
       "      <td>20</td>\n",
       "    </tr>\n",
       "  </tbody>\n",
       "</table>\n",
       "</div>"
      ],
      "text/plain": [
       "   client_id   month_  total_spend  total_contacts\n",
       "0      16261  2023-01       73.045              13\n",
       "1      16261  2023-02       46.165              19\n",
       "2      16261  2023-03       74.410              13\n",
       "3      16511  2023-01       55.230              16\n",
       "4      16511  2023-02       76.160              20"
      ]
     },
     "execution_count": 4,
     "metadata": {},
     "output_type": "execute_result"
    }
   ],
   "source": [
    "df3.head()"
   ]
  },
  {
   "cell_type": "code",
   "execution_count": 5,
   "metadata": {},
   "outputs": [],
   "source": [
    "df3.loc[len(df3)] = [16261, '2023-06', 50000, 20]"
   ]
  },
  {
   "cell_type": "code",
   "execution_count": 6,
   "metadata": {},
   "outputs": [
    {
     "data": {
      "text/html": [
       "<div>\n",
       "<style scoped>\n",
       "    .dataframe tbody tr th:only-of-type {\n",
       "        vertical-align: middle;\n",
       "    }\n",
       "\n",
       "    .dataframe tbody tr th {\n",
       "        vertical-align: top;\n",
       "    }\n",
       "\n",
       "    .dataframe thead th {\n",
       "        text-align: right;\n",
       "    }\n",
       "</style>\n",
       "<table border=\"1\" class=\"dataframe\">\n",
       "  <thead>\n",
       "    <tr style=\"text-align: right;\">\n",
       "      <th></th>\n",
       "      <th>client_id</th>\n",
       "      <th>month_</th>\n",
       "      <th>total_spend</th>\n",
       "      <th>total_contacts</th>\n",
       "    </tr>\n",
       "  </thead>\n",
       "  <tbody>\n",
       "    <tr>\n",
       "      <th>0</th>\n",
       "      <td>16261</td>\n",
       "      <td>2023-01</td>\n",
       "      <td>73.045</td>\n",
       "      <td>13</td>\n",
       "    </tr>\n",
       "    <tr>\n",
       "      <th>1</th>\n",
       "      <td>16261</td>\n",
       "      <td>2023-02</td>\n",
       "      <td>46.165</td>\n",
       "      <td>19</td>\n",
       "    </tr>\n",
       "    <tr>\n",
       "      <th>2</th>\n",
       "      <td>16261</td>\n",
       "      <td>2023-03</td>\n",
       "      <td>74.410</td>\n",
       "      <td>13</td>\n",
       "    </tr>\n",
       "    <tr>\n",
       "      <th>3</th>\n",
       "      <td>16511</td>\n",
       "      <td>2023-01</td>\n",
       "      <td>55.230</td>\n",
       "      <td>16</td>\n",
       "    </tr>\n",
       "    <tr>\n",
       "      <th>4</th>\n",
       "      <td>16511</td>\n",
       "      <td>2023-02</td>\n",
       "      <td>76.160</td>\n",
       "      <td>20</td>\n",
       "    </tr>\n",
       "    <tr>\n",
       "      <th>...</th>\n",
       "      <td>...</td>\n",
       "      <td>...</td>\n",
       "      <td>...</td>\n",
       "      <td>...</td>\n",
       "    </tr>\n",
       "    <tr>\n",
       "      <th>2015</th>\n",
       "      <td>112034</td>\n",
       "      <td>2023-03</td>\n",
       "      <td>80.430</td>\n",
       "      <td>22</td>\n",
       "    </tr>\n",
       "    <tr>\n",
       "      <th>2016</th>\n",
       "      <td>112467</td>\n",
       "      <td>2023-01</td>\n",
       "      <td>164.290</td>\n",
       "      <td>3</td>\n",
       "    </tr>\n",
       "    <tr>\n",
       "      <th>2017</th>\n",
       "      <td>112467</td>\n",
       "      <td>2023-02</td>\n",
       "      <td>210.665</td>\n",
       "      <td>3</td>\n",
       "    </tr>\n",
       "    <tr>\n",
       "      <th>2018</th>\n",
       "      <td>112467</td>\n",
       "      <td>2023-03</td>\n",
       "      <td>302.365</td>\n",
       "      <td>3</td>\n",
       "    </tr>\n",
       "    <tr>\n",
       "      <th>2019</th>\n",
       "      <td>16261</td>\n",
       "      <td>2023-06</td>\n",
       "      <td>50000.000</td>\n",
       "      <td>20</td>\n",
       "    </tr>\n",
       "  </tbody>\n",
       "</table>\n",
       "<p>2020 rows × 4 columns</p>\n",
       "</div>"
      ],
      "text/plain": [
       "      client_id   month_  total_spend  total_contacts\n",
       "0         16261  2023-01       73.045              13\n",
       "1         16261  2023-02       46.165              19\n",
       "2         16261  2023-03       74.410              13\n",
       "3         16511  2023-01       55.230              16\n",
       "4         16511  2023-02       76.160              20\n",
       "...         ...      ...          ...             ...\n",
       "2015     112034  2023-03       80.430              22\n",
       "2016     112467  2023-01      164.290               3\n",
       "2017     112467  2023-02      210.665               3\n",
       "2018     112467  2023-03      302.365               3\n",
       "2019      16261  2023-06    50000.000              20\n",
       "\n",
       "[2020 rows x 4 columns]"
      ]
     },
     "execution_count": 6,
     "metadata": {},
     "output_type": "execute_result"
    }
   ],
   "source": [
    "df3"
   ]
  },
  {
   "cell_type": "code",
   "execution_count": 7,
   "metadata": {},
   "outputs": [],
   "source": [
    "rapport_final = {'x1':df1, 'x2':df2, 'x3':df3}"
   ]
  },
  {
   "cell_type": "code",
   "execution_count": 9,
   "metadata": {},
   "outputs": [
    {
     "name": "stdout",
     "output_type": "stream",
     "text": [
      "{'x1':        id activity_name  total_spend\n",
      "0   18072  demenagement     3469.760\n",
      "1   18073  demenagement     3442.915\n",
      "2  100734  demenagement     3356.815\n",
      "3   73077  demenagement     3206.035\n",
      "4  100733  demenagement     2640.435, 'x2':     month_  total_contacts\n",
      "0  2023-01            7841\n",
      "1  2023-02            7364\n",
      "2  2023-03            7756, 'x3':       client_id   month_  total_spend  total_contacts\n",
      "0         16261  2023-01       73.045              13\n",
      "1         16261  2023-02       46.165              19\n",
      "2         16261  2023-03       74.410              13\n",
      "3         16511  2023-01       55.230              16\n",
      "4         16511  2023-02       76.160              20\n",
      "...         ...      ...          ...             ...\n",
      "2015     112034  2023-03       80.430              22\n",
      "2016     112467  2023-01      164.290               3\n",
      "2017     112467  2023-02      210.665               3\n",
      "2018     112467  2023-03      302.365               3\n",
      "2019      16261  2023-06    50000.000              20\n",
      "\n",
      "[2020 rows x 4 columns]}\n"
     ]
    }
   ],
   "source": [
    "print(rapport_final)"
   ]
  }
 ],
 "metadata": {
  "kernelspec": {
   "display_name": "Python 3",
   "language": "python",
   "name": "python3"
  },
  "language_info": {
   "codemirror_mode": {
    "name": "ipython",
    "version": 3
   },
   "file_extension": ".py",
   "mimetype": "text/x-python",
   "name": "python",
   "nbconvert_exporter": "python",
   "pygments_lexer": "ipython3",
   "version": "3.11.9"
  }
 },
 "nbformat": 4,
 "nbformat_minor": 2
}
